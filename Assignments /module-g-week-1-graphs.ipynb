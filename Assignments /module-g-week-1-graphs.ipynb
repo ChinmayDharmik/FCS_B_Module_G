{
 "cells": [
  {
   "cell_type": "code",
   "execution_count": 2,
   "metadata": {},
   "outputs": [],
   "source": [
    "import pandas as pd\n",
    "import numpy as np\n",
    "from numpy import nan\n",
    "#import otter\n",
    "#grader = otter.Notebook()"
   ]
  },
  {
   "cell_type": "markdown",
   "metadata": {
    "tags": []
   },
   "source": [
    "# <mark style=\"background: #843fa1; color: #ffffff;\" >&nbsp;G </mark>&nbsp;Week 1: Working with Graphs \n",
    "\n",
    "------\n",
    "\n",
    "### Instructions:\n",
    "\n",
    "- Complete 50 points worth of questions to pass the assessment\n",
    "- You can attempt any number of questions and in any order provided you pass at least 50 points.\n",
    "- These questions should be attempted directly in this notebook.\n",
    "- Be sure to check your work before submitting.\n",
    "- Do not remove any provided markings from the answer spaces.\n",
    "- Do not make any changes to this notebook outside of the answer spaces provided.\n",
    "  \n",
    "#### Submitting\n",
    "\n",
    "- Reset your outputs before submitting by selecting the `Kernel` menu, then either `Restart & Run Clear Output` or `Restart & Run All`.\n",
    "- Don't forget to save your notebook after this step.\n",
    "- Submit your .ipynb file to Gradescope via upload.\n",
    "- You can submit as many times as needed.\n",
    "- When reviewing results, **ignore** any results listed under \"Public Tests\"  \n",
    "  (There are no \"Public Tests\" in this assignment)\n",
    "\n",
    "For more information, see the assessment page."
   ]
  },
  {
   "cell_type": "markdown",
   "metadata": {},
   "source": [
    "#### Question 01 &nbsp;&nbsp;&nbsp;&nbsp;&nbsp;&nbsp;(5 Points)\n",
    "\n",
    "Given the following undirected, unweighted graph:<br />\n",
    "![unweighted undirected graph](https://zschub.github.io/img/unweighted-undirected.png)<br />\n",
    "Write a function defined as:\n",
    "```python\n",
    "def edge_list():\n",
    "```\n",
    "that returns a list of edges where each edge is a set of two strings for the endpoint vertices of the edge. For example:\n",
    "```python\n",
    "def edge_list():\n",
    "    return [{'0', '4'}, ...]\n",
    "```\n",
    "---\n",
    "<details>\n",
    "  <summary><span style=\"color:blue\">What do I do?</span></summary>\n",
    "   This is a manual task to record and return a set of edges from a graph image and serves as useful test data for following questions.\n",
    "</details>"
   ]
  },
  {
   "cell_type": "code",
   "execution_count": 13,
   "metadata": {
    "tags": []
   },
   "outputs": [
    {
     "data": {
      "text/plain": [
       "[{'0', '4'}, {'0', '1'}, {'1', '2'}, {'2', '3'}, {'0', '3'}]"
      ]
     },
     "execution_count": 13,
     "metadata": {},
     "output_type": "execute_result"
    }
   ],
   "source": [
    "def edge_list():\n",
    "    return [{'0','4'}, {'0','1'}, {'1', '2'}, {'3', '2'}, {'0', '3'}]\n",
    "    # Write your solution here"
   ]
  },
  {
   "cell_type": "markdown",
   "metadata": {},
   "source": [
    "#### Question 02 &nbsp;&nbsp;&nbsp;&nbsp;&nbsp;&nbsp;(10 Points)\n",
    "\n",
    "Write a function defined as:\n",
    "```python\n",
    "def vertex_list(edge_list):\n",
    "```\n",
    "that examines a list of edges in the format used in Question 1 and extracts all of the vertices returning them in a set or `None` if the `edge_list` is empty. For example, the graph above (Qn 1) would return: \n",
    "```python\n",
    "{'0', '1', '2', '3', '4'}\n",
    "```"
   ]
  },
  {
   "cell_type": "code",
   "execution_count": 15,
   "metadata": {
    "tags": []
   },
   "outputs": [],
   "source": [
    "def vertex_list(edge_list):\n",
    "    if edge_list == []:\n",
    "        return None\n",
    "    lst=[]\n",
    "    # Write your solution here\n",
    "    for i in edge_list:\n",
    "        lst+=i\n",
    "    return set(lst)\n",
    "vertex_list([])"
   ]
  },
  {
   "cell_type": "markdown",
   "metadata": {
    "tags": []
   },
   "source": [
    "#### Question 03 &nbsp;&nbsp;&nbsp;&nbsp;&nbsp;&nbsp;(10 Points)\n",
    "\n",
    "Write a function defined as:\n",
    "```python\n",
    "def adjacency_list_as_dict (vertex_list, edge_list):\n",
    "```\n",
    "that accepts a list of vertices and list of edges in the format defined in Question 1 (list of sets of adjacent vertices) and returns an adjacency list in the form of a dictionary where the key defines the vertex and the values contain a list of adjacent vertices.\n",
    "\n",
    "For example, given the graph shown in Question 1, the function would return a dict as follows:\n",
    "```python\n",
    "{'0': ['4', '1', '3'],\n",
    " '1': ['0', '2'],\n",
    " '2': ['1', '3'],\n",
    " '3': ['2', '0'],\n",
    " '4': ['0']}\n",
    "```"
   ]
  },
  {
   "cell_type": "code",
   "execution_count": 20,
   "metadata": {
    "tags": []
   },
   "outputs": [
    {
     "data": {
      "text/plain": [
       "{'0': ['4', '1', '3'],\n",
       " '1': ['0', '2'],\n",
       " '2': ['1', '3'],\n",
       " '3': ['2', '0'],\n",
       " '4': ['0']}"
      ]
     },
     "execution_count": 20,
     "metadata": {},
     "output_type": "execute_result"
    }
   ],
   "source": [
    "def adjacency_list_as_dict (vertex_list, edge_list):\n",
    "    dic = dict()\n",
    "    vertex_list = sorted(list(vertex_list))\n",
    "    for i in vertex_list:\n",
    "        dic[i]=[]\n",
    "    for i in edge_list:\n",
    "        dic[list(i)[0]].append(list(i)[1])\n",
    "        dic[list(i)[1]].append(list(i)[0])\n",
    "    return dic\n",
    "adjacency_list_as_dict(vertex_list(edge_list()),edge_list())"
   ]
  },
  {
   "cell_type": "markdown",
   "metadata": {},
   "source": [
    "#### Question 04 &nbsp;&nbsp;&nbsp;&nbsp;&nbsp;&nbsp;(5 Points)\n",
    "\n",
    "Given the following undirected, edge-weighted graph:<br />\n",
    "![edge weighted undirected graph](https://zschub.github.io/img/undirected-edge-weighted.png)<br />\n",
    "Write a function defined as:\n",
    "```python\n",
    "def edge_weighted_list():\n",
    "```\n",
    "that returns a list of edges where each edge is:\n",
    "- a tuple containing two elements,\n",
    "- firstly, a set of two strings for the endpoint vertices of the edge, and\n",
    "- secondly, the weight of the edge.\n",
    "For example:\n",
    "```python\n",
    "return [({'0', '4'}, 1), ...]\n",
    "```\n",
    "As for Question 1, this is a manual task of inspecting a graph and representing the edges and weights as a list and returning this from a function call."
   ]
  },
  {
   "cell_type": "code",
   "execution_count": 23,
   "metadata": {
    "tags": []
   },
   "outputs": [
    {
     "data": {
      "text/plain": [
       "[({'0', '4'}, 1),\n",
       " ({'0', '1'}, 2),\n",
       " ({'1', '2'}, 2),\n",
       " ({'2', '3'}, 4),\n",
       " ({'0', '3'}, 5)]"
      ]
     },
     "execution_count": 23,
     "metadata": {},
     "output_type": "execute_result"
    }
   ],
   "source": [
    "def edge_weighted_list():\n",
    "\n",
    "    # Write your solution here\n",
    "    return [\n",
    "        ({'4','0'},1),\n",
    "        ({'0','1'},2),\n",
    "        ({'1','2'},2),\n",
    "        ({'2','3'},4),\n",
    "        ({'3','0'},5)\n",
    "    ]\n",
    "edge_weighted_list()"
   ]
  },
  {
   "cell_type": "markdown",
   "metadata": {},
   "source": [
    "#### Question 05 &nbsp;&nbsp;&nbsp;&nbsp;&nbsp;&nbsp;(10 Points)\n",
    "\n",
    "Write a function defined as:\n",
    "```Python\n",
    "def adjacency_list_with_weights (vertex_list, edge_list):\n",
    "```\n",
    "that returns an adjacency list where:\n",
    "- keys represent vertices,\n",
    "- values represent a list of adjacent vertices,\n",
    "- for each adjacent vertex, a two value tuple is provided with `(adjacent vertex, weight of edge)`.\n",
    "\n",
    "For example, given the graph above, the function would return:\n",
    "```python\n",
    "{'0': [('4', 1), ('1', 2), ('3', 5)],\n",
    " '1': [('0', 2), ('2', 2)],\n",
    " '2': [('1', 2), ('3', 4)],\n",
    " '3': [('0', 5), ('2', 4)],\n",
    " '4': [('0', 1)]}\n",
    "```\n",
    "although key and values ordering may be different."
   ]
  },
  {
   "cell_type": "code",
   "execution_count": 30,
   "metadata": {
    "tags": []
   },
   "outputs": [
    {
     "data": {
      "text/plain": [
       "{'0': [('4', 1), ('1', 2), ('3', 5)],\n",
       " '1': [('0', 2), ('2', 2)],\n",
       " '2': [('1', 2), ('3', 4)],\n",
       " '3': [('2', 4), ('0', 5)],\n",
       " '4': [('0', 1)]}"
      ]
     },
     "execution_count": 30,
     "metadata": {},
     "output_type": "execute_result"
    }
   ],
   "source": [
    "def adjacency_list_with_weights (vertex_list, edge_list):\n",
    "\n",
    "    # Write your solution here\n",
    "    dic = dict()\n",
    "    vertex_list = sorted(list(vertex_list))\n",
    "    for i in vertex_list:\n",
    "        dic[i]=[]\n",
    "    for i in edge_list:\n",
    "        dic[list(i[0])[0]].append((list(i[0])[1],list(i)[1]))\n",
    "        dic[list(i[0])[1]].append((list(i[0])[0],list(i)[1]))\n",
    "    return dic\n",
    "adjacency_list_with_weights(vertex_list(edge_list()),edge_weighted_list())"
   ]
  },
  {
   "cell_type": "markdown",
   "metadata": {
    "tags": []
   },
   "source": [
    "#### Question 06 &nbsp;&nbsp;&nbsp;&nbsp;&nbsp;&nbsp;(10 Points)\n",
    "\n",
    "Write a function defined as:\n",
    "```python\n",
    "def adjacency_list_directed (edge_list):\n",
    "```\n",
    "that returns an adjacency list of a graph defined as list of directed edges in the form of tuples:\n",
    "```python\n",
    "[(origin, destination), ...]\n",
    "```\n",
    "For example, in this graph, edges would be defined thus: \n",
    "```python\n",
    "[(1, 2), (4, 0), ... ]\n",
    "```<br />\n",
    "![directed unweighted](https://zschub.github.io/img/directed-unweighted.jpg)<br />\n"
   ]
  },
  {
   "cell_type": "code",
   "execution_count": 36,
   "metadata": {
    "tags": []
   },
   "outputs": [
    {
     "name": "stdout",
     "output_type": "stream",
     "text": [
      "{'0': ['1'], '1': ['2'], '2': ['3'], '3': ['4', '0'], '4': ['0']}\n"
     ]
    }
   ],
   "source": [
    "e_list= [('0','1'),('1','2'),('2','3'),('3','4'),('4','0'),('3','0')]\n",
    "def adjacency_list_directed (edge_list):\n",
    "    # Write your solution here\n",
    "    dic = dict()\n",
    "    for i in edge_list:\n",
    "        dic[i[0]]=[]\n",
    "    for i in edge_list:\n",
    "        dic[i[0]].append(i[1])\n",
    "    return dic\n",
    "adjacency_list_directed(e_list)\n"
   ]
  },
  {
   "cell_type": "markdown",
   "metadata": {},
   "source": [
    "#### Question 07 &nbsp;&nbsp;&nbsp;&nbsp;&nbsp;&nbsp;(10 Points)\n",
    "\n",
    "Write a function defined as:\n",
    "```python\n",
    "def adjacency_matrix_weighted_directed (edge_list):\n",
    "```    \n",
    "that accepts a list of weighted, directed edges in the form of tuples:\n",
    "```python\n",
    "(origin, destination, weight)\n",
    "```\n",
    "for a graph of the form:<br />\n",
    "![directed unweighted](https://zschub.github.io/img/directed-weighted.jpg)<br />\n",
    "and returns an Adjacency Matrix as a pandas `DataFrame` with the following features:\n",
    "- diagonal (identity) values are represented with the weight '0',\n",
    "- non traversable edges are represented by `NumPy.nan`,\n",
    "- column and index values match the vertex labels, and\n",
    "- otherwise the matrix value represents the numeric weight of traversing the edge as a float value with index (row) as the origin and the column as the destination."
   ]
  },
  {
   "cell_type": "code",
   "execution_count": 11,
   "metadata": {
    "tags": []
   },
   "outputs": [
    {
     "data": {
      "text/html": [
       "<div>\n",
       "<style scoped>\n",
       "    .dataframe tbody tr th:only-of-type {\n",
       "        vertical-align: middle;\n",
       "    }\n",
       "\n",
       "    .dataframe tbody tr th {\n",
       "        vertical-align: top;\n",
       "    }\n",
       "\n",
       "    .dataframe thead th {\n",
       "        text-align: right;\n",
       "    }\n",
       "</style>\n",
       "<table border=\"1\" class=\"dataframe\">\n",
       "  <thead>\n",
       "    <tr style=\"text-align: right;\">\n",
       "      <th></th>\n",
       "      <th>0</th>\n",
       "      <th>1</th>\n",
       "      <th>2</th>\n",
       "      <th>3</th>\n",
       "      <th>4</th>\n",
       "    </tr>\n",
       "  </thead>\n",
       "  <tbody>\n",
       "    <tr>\n",
       "      <th>0</th>\n",
       "      <td>0.0</td>\n",
       "      <td>2.0</td>\n",
       "      <td>NaN</td>\n",
       "      <td>NaN</td>\n",
       "      <td>NaN</td>\n",
       "    </tr>\n",
       "    <tr>\n",
       "      <th>1</th>\n",
       "      <td>NaN</td>\n",
       "      <td>0.0</td>\n",
       "      <td>2.0</td>\n",
       "      <td>NaN</td>\n",
       "      <td>NaN</td>\n",
       "    </tr>\n",
       "    <tr>\n",
       "      <th>2</th>\n",
       "      <td>NaN</td>\n",
       "      <td>NaN</td>\n",
       "      <td>0.0</td>\n",
       "      <td>4.0</td>\n",
       "      <td>NaN</td>\n",
       "    </tr>\n",
       "    <tr>\n",
       "      <th>3</th>\n",
       "      <td>5.0</td>\n",
       "      <td>NaN</td>\n",
       "      <td>NaN</td>\n",
       "      <td>0.0</td>\n",
       "      <td>3.0</td>\n",
       "    </tr>\n",
       "    <tr>\n",
       "      <th>4</th>\n",
       "      <td>1.0</td>\n",
       "      <td>NaN</td>\n",
       "      <td>NaN</td>\n",
       "      <td>NaN</td>\n",
       "      <td>0.0</td>\n",
       "    </tr>\n",
       "  </tbody>\n",
       "</table>\n",
       "</div>"
      ],
      "text/plain": [
       "     0    1    2    3    4\n",
       "0  0.0  2.0  NaN  NaN  NaN\n",
       "1  NaN  0.0  2.0  NaN  NaN\n",
       "2  NaN  NaN  0.0  4.0  NaN\n",
       "3  5.0  NaN  NaN  0.0  3.0\n",
       "4  1.0  NaN  NaN  NaN  0.0"
      ]
     },
     "execution_count": 11,
     "metadata": {},
     "output_type": "execute_result"
    }
   ],
   "source": [
    "e_list= [('0','1',2),('1','2',2),('2','3',4),('3','4',3),('4','0',1),('3','0',5)]\n",
    "def adjacency_matrix_weighted_directed (edge_list):\n",
    "    # Write your solution here\n",
    "    vertex_list = []\n",
    "    for i in edge_list:\n",
    "        vertex_list.extend([i[0],i[1]])\n",
    "    vertex_list = sorted(set(vertex_list))\n",
    "    ad_mat = np.empty((len(vertex_list),len(vertex_list)))\n",
    "    ad_mat[:] = nan\n",
    "    for i,val in enumerate(vertex_list):\n",
    "        ad_mat[i][i]=0\n",
    "    for i in edge_list:\n",
    "        j,k = vertex_list.index(i[0]),vertex_list.index(i[1])\n",
    "        ad_mat[j][k]=i[-1]\n",
    "    return pd.DataFrame(ad_mat,index=vertex_list,columns=vertex_list)\n",
    "\n",
    "adjacency_matrix_weighted_directed(e_list)\n",
    "\n",
    "    "
   ]
  },
  {
   "cell_type": "markdown",
   "metadata": {},
   "source": [
    "#### Question 08 &nbsp;&nbsp;&nbsp;&nbsp;&nbsp;&nbsp;(10 Points)\n",
    "\n",
    "Write a function defined as:\n",
    "```python\n",
    "def adjacency_matrix_unweighted_undirected (edge_list):\n",
    "```\n",
    "that returns a NumPy array with the adjacency matrix of a list of edges in the Question 1 format (a list of sets of adjacent vertices). \n",
    "- the axes of the array should reflect the sorted vertex values (so `'A', 'B', 'C'` rather than `'C', 'A', 'B'`.\n",
    "- non adjacent vertices should be marked with 0,\n",
    "- adjacent vertices should be marled with 1,\n",
    "- looped vertices should be marked with 1, otherwise diagonal (identity) locations should be marked with 0.\n",
    "\n",
    "Thus, a graph of the form:<br />\n",
    "![directed unweighted](https://zschub.github.io/img/graph-basic.png)<br />should return:\n",
    "```python\n",
    "array([[0, 1, 0, 0, 1],\n",
    "       [1, 0, 1, 1, 0],\n",
    "       [0, 1, 0, 1, 0],\n",
    "       [0, 1, 1, 1, 1],\n",
    "       [1, 0, 0, 1, 0]])\n",
    "```"
   ]
  },
  {
   "cell_type": "code",
   "execution_count": 31,
   "metadata": {
    "tags": []
   },
   "outputs": [
    {
     "data": {
      "text/plain": [
       "array([[0, 1, 0, 0, 1],\n",
       "       [1, 0, 1, 1, 0],\n",
       "       [0, 1, 0, 1, 0],\n",
       "       [0, 1, 1, 1, 1],\n",
       "       [1, 0, 0, 1, 0]])"
      ]
     },
     "execution_count": 31,
     "metadata": {},
     "output_type": "execute_result"
    }
   ],
   "source": [
    "edges = [{'A','B'}, {'B','C'}, {'B', 'D'}, {'C', 'D'}, {'D', 'D'}, {'A', 'E'}, {'E', 'D'}]\n",
    "def adjacency_matrix_unweighted_undirected (edge_list):\n",
    "\n",
    "    # Write your solution here\n",
    "    vertex_list = []\n",
    "    for i in edge_list:\n",
    "        i = list(i)\n",
    "        if len(i) == 1:\n",
    "            vertex_list.extend([i[0],i[0]])\n",
    "        else:\n",
    "            vertex_list.extend([i[0],i[1]])\n",
    "    vertex_list = sorted(set(vertex_list))\n",
    "    ad_mat = np.zeros((len(vertex_list),len(vertex_list)))\n",
    "    for i in edge_list:\n",
    "        i = list(i)\n",
    "        j,k = 0,0\n",
    "        if len(i) == 1:\n",
    "            j,k = vertex_list.index(i[0]),vertex_list.index(i[0])\n",
    "        else:\n",
    "            j,k = vertex_list.index(i[0]),vertex_list.index(i[1])\n",
    "        ad_mat[j][k]=1\n",
    "        ad_mat[k][j]=1\n",
    "    return ad_mat.astype(int)\n",
    "adjacency_matrix_unweighted_undirected(edges)"
   ]
  },
  {
   "cell_type": "markdown",
   "metadata": {},
   "source": [
    "#### Question 09 &nbsp;&nbsp;&nbsp;&nbsp;&nbsp;&nbsp;(10 Points)\n",
    "\n",
    "Write a function defined as:\n",
    "```python\n",
    "def degree_from_edges (edge_list, vertex):\n",
    "```\n",
    "that accepts a list of edges in the form of a list of sets (`[{'A', 'B'}, ...]`) and returns the degree of a vertex in the graph passed as a second parameter."
   ]
  },
  {
   "cell_type": "code",
   "execution_count": 34,
   "metadata": {
    "tags": []
   },
   "outputs": [
    {
     "data": {
      "text/plain": [
       "3"
      ]
     },
     "execution_count": 34,
     "metadata": {},
     "output_type": "execute_result"
    }
   ],
   "source": [
    "edges = [{'A','B'}, {'B','C'}, {'B', 'D'}, {'C', 'D'}, {'A', 'E'}, {'E', 'D'}]\n",
    "def degree_from_edges (edge_list, vertex):\n",
    "    count =0\n",
    "    for i in edge_list:\n",
    "        if vertex in list(i):\n",
    "            count+=1\n",
    "    return count\n",
    "degree_from_edges(edges, 'B')"
   ]
  },
  {
   "cell_type": "markdown",
   "metadata": {
    "tags": []
   },
   "source": [
    "#### Question 10 &nbsp;&nbsp;&nbsp;&nbsp;&nbsp;&nbsp;(10 Points)\n",
    "\n",
    "Write a function defined as:\n",
    "```python\n",
    "def degrees_from_adjacency_matrix (adj_matrix):\n",
    "```\n",
    "that accepts a binary adjacency matrix formatted as per Question 8 (a NumPy array with adjacent vertices marked with 1 and otherwise 0) and returns a 1D `np.array` of integers being the degree of each vertex in the same sort order as the original indexing.\n",
    "\n",
    "Thus, for the graph:<br /> ![unweighted undirected graph](https://zschub.github.io/img/unweighted-undirected.png)<br />\n",
    "an input adjacency matrix:\n",
    "```python\n",
    "      [[0, 1, 0, 1, 1],\n",
    "       [1, 0, 1, 0, 0],\n",
    "       [0, 1, 0, 1, 0],\n",
    "       [1, 0, 1, 0, 0],\n",
    "       [1, 0, 0, 0, 0]]\n",
    "```\n",
    "would return:\n",
    "```python\n",
    "array([3, 2, 2, 2, 1])\n",
    "```"
   ]
  },
  {
   "cell_type": "code",
   "execution_count": 37,
   "metadata": {
    "tags": []
   },
   "outputs": [
    {
     "data": {
      "text/plain": [
       "array([3, 2, 2, 2, 1])"
      ]
     },
     "execution_count": 37,
     "metadata": {},
     "output_type": "execute_result"
    }
   ],
   "source": [
    "def degrees_from_adjacency_matrix (adj_matrix): \n",
    "    lst =[]\n",
    "    for i in adj_matrix:\n",
    "        lst.append(sum(i))\n",
    "    return np.array(lst)"
   ]
  },
  {
   "cell_type": "markdown",
   "metadata": {},
   "source": [
    "#### Question 11 &nbsp;&nbsp;&nbsp;&nbsp;&nbsp;&nbsp;(10 Points)\n",
    "\n",
    "Write a function defined as:\n",
    "```python\n",
    "def transform_list_to_matrix (adjacency_list):\n",
    "```\n",
    "that transforms an adjacency list for a directed graph (per Question 6 format: a dictionary where keys indicate vertex lables and values contain a list of adjacent (directed) vertices.\n",
    "\n",
    "The function should construct a pandas `DataFrame` with the following features:\n",
    "- diagonal (identity) values are represented with the value `0.0`,\n",
    "- non traversable edges are represented by NumPy.nan,\n",
    "- column and index values match the vertex labels, and\n",
    "- traversable edges are indicated with the value `1.0` reading the directed adjacency matrix horizontally (the row shows the origin vertex and the column the destination).\n",
    "\n",
    "Thus for the graph:<br />\n",
    "![directed unweighted](https://zschub.github.io/img/directed-unweighted.jpg)<br />\n",
    "represented by an adjacency list:\n",
    "```python\n",
    "{'0': ['1'], '1': ['2'], '2': ['3'], '3': ['4', '0'], '4': ['0']}\n",
    "```\n",
    "the `DataFrame` returned would have values:<br /><br />\n",
    "![directed unweighted](https://zschub.github.io/img/adj-matrix.png)"
   ]
  },
  {
   "cell_type": "code",
   "execution_count": 54,
   "metadata": {
    "tags": []
   },
   "outputs": [
    {
     "data": {
      "text/plain": [
       "Index(['0', '1'], dtype='object')"
      ]
     },
     "execution_count": 54,
     "metadata": {},
     "output_type": "execute_result"
    }
   ],
   "source": [
    "def transform_list_to_matrix (adjacency_list):\n",
    "    # Write your solution here\n",
    "    indexs = sorted(list(adjacency_list.keys()))\n",
    "    at_mat = np.empty((len(indexs),len(indexs)))\n",
    "    at_mat[:] = nan\n",
    "    for i,j in adjacency_list.items():\n",
    "        at_mat[indexs.index(i)][indexs.index(i)]=0\n",
    "        for k in j:\n",
    "            at_mat[indexs.index(i)][indexs.index(k)]=1\n",
    "    return pd.DataFrame(at_mat,index=indexs,columns=indexs)\n",
    "alist = {'0': ['1'], '1': []}\n",
    "amatrix = transform_list_to_matrix(alist)\n",
    "amatrix.index"
   ]
  }
 ],
 "metadata": {
  "kernelspec": {
   "display_name": "Python 3.7.11 ('base')",
   "language": "python",
   "name": "python3"
  },
  "language_info": {
   "codemirror_mode": {
    "name": "ipython",
    "version": 3
   },
   "file_extension": ".py",
   "mimetype": "text/x-python",
   "name": "python",
   "nbconvert_exporter": "python",
   "pygments_lexer": "ipython3",
   "version": "3.7.11"
  },
  "otter": {
   "tests": {
    "Question 01": {
     "name": "Question 01",
     "points": 5,
     "suites": [
      {
       "cases": [],
       "scored": true,
       "setup": "",
       "teardown": "",
       "type": "doctest"
      }
     ]
    },
    "Question 02": {
     "name": "Question 02",
     "points": 10,
     "suites": [
      {
       "cases": [],
       "scored": true,
       "setup": "",
       "teardown": "",
       "type": "doctest"
      }
     ]
    },
    "Question 03": {
     "name": "Question 03",
     "points": 10,
     "suites": [
      {
       "cases": [],
       "scored": true,
       "setup": "",
       "teardown": "",
       "type": "doctest"
      }
     ]
    },
    "Question 04": {
     "name": "Question 04",
     "points": 5,
     "suites": [
      {
       "cases": [],
       "scored": true,
       "setup": "",
       "teardown": "",
       "type": "doctest"
      }
     ]
    },
    "Question 05": {
     "name": "Question 05",
     "points": 10,
     "suites": [
      {
       "cases": [],
       "scored": true,
       "setup": "",
       "teardown": "",
       "type": "doctest"
      }
     ]
    },
    "Question 06": {
     "name": "Question 06",
     "points": 10,
     "suites": [
      {
       "cases": [],
       "scored": true,
       "setup": "",
       "teardown": "",
       "type": "doctest"
      }
     ]
    },
    "Question 07": {
     "name": "Question 07",
     "points": 10,
     "suites": [
      {
       "cases": [],
       "scored": true,
       "setup": "",
       "teardown": "",
       "type": "doctest"
      }
     ]
    },
    "Question 08": {
     "name": "Question 08",
     "points": 10,
     "suites": [
      {
       "cases": [],
       "scored": true,
       "setup": "",
       "teardown": "",
       "type": "doctest"
      }
     ]
    },
    "Question 09": {
     "name": "Question 09",
     "points": 10,
     "suites": [
      {
       "cases": [],
       "scored": true,
       "setup": "",
       "teardown": "",
       "type": "doctest"
      }
     ]
    },
    "Question 10": {
     "name": "Question 10",
     "points": 10,
     "suites": [
      {
       "cases": [],
       "scored": true,
       "setup": "",
       "teardown": "",
       "type": "doctest"
      }
     ]
    },
    "Question 11": {
     "name": "Question 11",
     "points": 10,
     "suites": [
      {
       "cases": [],
       "scored": true,
       "setup": "",
       "teardown": "",
       "type": "doctest"
      }
     ]
    }
   }
  },
  "varInspector": {
   "cols": {
    "lenName": 16,
    "lenType": 16,
    "lenVar": 40
   },
   "kernels_config": {
    "python": {
     "delete_cmd_postfix": "",
     "delete_cmd_prefix": "del ",
     "library": "var_list.py",
     "varRefreshCmd": "print(var_dic_list())"
    },
    "r": {
     "delete_cmd_postfix": ") ",
     "delete_cmd_prefix": "rm(",
     "library": "var_list.r",
     "varRefreshCmd": "cat(var_dic_list()) "
    }
   },
   "types_to_exclude": [
    "module",
    "function",
    "builtin_function_or_method",
    "instance",
    "_Feature"
   ],
   "window_display": false
  },
  "vscode": {
   "interpreter": {
    "hash": "a72aabb76f9e4cf8b68e7cdbe6f884b3fcae82761f876f206d05dd6064cd4a20"
   }
  }
 },
 "nbformat": 4,
 "nbformat_minor": 4
}
