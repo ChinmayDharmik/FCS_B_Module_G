{
 "cells": [
  {
   "cell_type": "code",
   "execution_count": 40,
   "metadata": {},
   "outputs": [
    {
     "name": "stdout",
     "output_type": "stream",
     "text": [
      "Collecting networkx==2.5\n",
      "  Downloading networkx-2.5-py3-none-any.whl (1.6 MB)\n",
      "\u001b[K     |████████████████████████████████| 1.6 MB 4.0 MB/s eta 0:00:01\n",
      "\u001b[?25hRequirement already satisfied: decorator>=4.3.0 in /home/kyrotron/miniconda3/lib/python3.7/site-packages (from networkx==2.5) (5.1.1)\n",
      "Installing collected packages: networkx\n",
      "  Attempting uninstall: networkx\n",
      "    Found existing installation: networkx 2.6.3\n",
      "    Uninstalling networkx-2.6.3:\n",
      "      Successfully uninstalled networkx-2.6.3\n",
      "Successfully installed networkx-2.5\n",
      "Note: you may need to restart the kernel to use updated packages.\n"
     ]
    }
   ],
   "source": [
    "pip install networkx==2.5"
   ]
  },
  {
   "cell_type": "code",
   "execution_count": 5,
   "metadata": {},
   "outputs": [
    {
     "data": {
      "image/png": "[encoded data removed]",
      "text/plain": [
       "<Figure size 432x288 with 1 Axes>"
      ]
     },
     "metadata": {},
     "output_type": "display_data"
    }
   ],
   "source": [
    "import networkx as nx\n",
    "\n",
    "g = nx.Graph()\n",
    "g.add_nodes_from(['A', 'B', 'C', 'D', 'E'])\n",
    "g.add_edges_from([('A', 'B'), ('B', 'E'), ('B', 'C'), ('E', 'C'), ('C', 'D')])\n",
    "nx.draw_networkx(g, with_labels = True, font_color = 'white', \\\n",
    "                 font_weight = 'bold', font_size = 14, node_size = 700)"
   ]
  },
  {
   "cell_type": "code",
   "execution_count": 29,
   "metadata": {},
   "outputs": [
    {
     "data": {
      "text/plain": [
       "True"
      ]
     },
     "execution_count": 29,
     "metadata": {},
     "output_type": "execute_result"
    }
   ],
   "source": [
    "import numpy as np\n",
    "import pandas as pd\n",
    "\n",
    "def check_undirected_symmetry (adjacency_matrix):\n",
    "    return (adjacency_matrix.T==adjacency_matrix).all()\n",
    "\n",
    "\n",
    "check_undirected_symmetry(np.array([\n",
    "    [0,1,0,0,0],\n",
    "    [1,0,4,0,3],\n",
    "    [0,4,0,3,3],\n",
    "    [0,0,3,0,0],\n",
    "    [0,3,3,0,0]\n",
    "]))"
   ]
  },
  {
   "cell_type": "code",
   "execution_count": 3,
   "metadata": {},
   "outputs": [
    {
     "data": {
      "text/html": [
       "<div>\n",
       "<style scoped>\n",
       "    .dataframe tbody tr th:only-of-type {\n",
       "        vertical-align: middle;\n",
       "    }\n",
       "\n",
       "    .dataframe tbody tr th {\n",
       "        vertical-align: top;\n",
       "    }\n",
       "\n",
       "    .dataframe thead th {\n",
       "        text-align: right;\n",
       "    }\n",
       "</style>\n",
       "<table border=\"1\" class=\"dataframe\">\n",
       "  <thead>\n",
       "    <tr style=\"text-align: right;\">\n",
       "      <th></th>\n",
       "      <th>A</th>\n",
       "      <th>B</th>\n",
       "      <th>C</th>\n",
       "      <th>D</th>\n",
       "      <th>E</th>\n",
       "    </tr>\n",
       "  </thead>\n",
       "  <tbody>\n",
       "    <tr>\n",
       "      <th>A</th>\n",
       "      <td>0.0</td>\n",
       "      <td>1.0</td>\n",
       "      <td>NaN</td>\n",
       "      <td>NaN</td>\n",
       "      <td>NaN</td>\n",
       "    </tr>\n",
       "    <tr>\n",
       "      <th>B</th>\n",
       "      <td>1.0</td>\n",
       "      <td>0.0</td>\n",
       "      <td>4.0</td>\n",
       "      <td>NaN</td>\n",
       "      <td>3.0</td>\n",
       "    </tr>\n",
       "    <tr>\n",
       "      <th>C</th>\n",
       "      <td>NaN</td>\n",
       "      <td>4.0</td>\n",
       "      <td>0.0</td>\n",
       "      <td>3.0</td>\n",
       "      <td>2.0</td>\n",
       "    </tr>\n",
       "    <tr>\n",
       "      <th>D</th>\n",
       "      <td>NaN</td>\n",
       "      <td>NaN</td>\n",
       "      <td>3.0</td>\n",
       "      <td>0.0</td>\n",
       "      <td>NaN</td>\n",
       "    </tr>\n",
       "    <tr>\n",
       "      <th>E</th>\n",
       "      <td>NaN</td>\n",
       "      <td>3.0</td>\n",
       "      <td>2.0</td>\n",
       "      <td>NaN</td>\n",
       "      <td>0.0</td>\n",
       "    </tr>\n",
       "  </tbody>\n",
       "</table>\n",
       "</div>"
      ],
      "text/plain": [
       "     A    B    C    D    E\n",
       "A  0.0  1.0  NaN  NaN  NaN\n",
       "B  1.0  0.0  4.0  NaN  3.0\n",
       "C  NaN  4.0  0.0  3.0  2.0\n",
       "D  NaN  NaN  3.0  0.0  NaN\n",
       "E  NaN  3.0  2.0  NaN  0.0"
      ]
     },
     "execution_count": 3,
     "metadata": {},
     "output_type": "execute_result"
    }
   ],
   "source": [
    "import pandas as pd\n",
    "from numpy import nan\n",
    "\n",
    "vertices = ['A', 'B', 'C', 'D', 'E']\n",
    "weights = [\n",
    "    [0,   1,   nan, nan, nan],\n",
    "    [1,   0,   4,   nan, 3  ],\n",
    "    [nan, 4,   0,   3,   2  ],\n",
    "    [nan, nan, 3,   0,   nan],\n",
    "    [nan, 3,   2,   nan, 0  ]\n",
    "    ]\n",
    "\n",
    "graph = pd.DataFrame(weights, columns = vertices, index = vertices)\n",
    "graph"
   ]
  },
  {
   "cell_type": "code",
   "execution_count": 45,
   "metadata": {},
   "outputs": [
    {
     "ename": "SyntaxError",
     "evalue": "invalid syntax (2890825106.py, line 18)",
     "output_type": "error",
     "traceback": [
      "\u001b[0;36m  File \u001b[0;32m\"/tmp/ipykernel_1068/2890825106.py\"\u001b[0;36m, line \u001b[0;32m18\u001b[0m\n\u001b[0;31m    nx.draw_networkx(G,,pos,with_labels = True, font_color = 'white', \\\u001b[0m\n\u001b[0m                       ^\u001b[0m\n\u001b[0;31mSyntaxError\u001b[0m\u001b[0;31m:\u001b[0m invalid syntax\n"
     ]
    }
   ],
   "source": [
    "from cProfile import label\n",
    "\n",
    "\n",
    "df = pd.DataFrame([\n",
    "[0,\t1,\t0,\t0,\t0,\t0,\t0],\n",
    "[0,\t0,\t3,\t2,\t1,\t0,\t0],\n",
    "[0,\t0,\t0,\t1,\t4,\t0,\t0],\n",
    "[1,\t0,\t0,\t0,\t2,\t0,\t0],\n",
    "[0,\t0,\t0,\t0,\t0,\t3,\t0],\n",
    "[0,\t0,\t0,\t0,\t0,\t0,\t0],\n",
    "[0,\t0,\t0,\t1,\t0,\t0,\t0]\n",
    "],\\\n",
    "index=['A', 'B', 'C', 'D', 'E','F','G'],columns=['A', 'B', 'C', 'D', 'E','F','G'])\n",
    "\n",
    "G = nx.from_pandas_adjacency(df,create_using=nx.DiGraph())\n",
    "labels = nx.get_edge_attributes(G,'weights')\n",
    "pos=nx.get_node_attributes(G,'pos')\n",
    "nx.draw_networkx(G,,pos,with_labels = True, font_color = 'white', \\\n",
    "                 font_weight = 'bold', font_size = 14, node_size = 700,arrows= \"->\",arrowsize=10)\n"
   ]
  }
 ],
 "metadata": {
  "kernelspec": {
   "display_name": "Python 3.7.11 ('base')",
   "language": "python",
   "name": "python3"
  },
  "language_info": {
   "codemirror_mode": {
    "name": "ipython",
    "version": 3
   },
   "file_extension": ".py",
   "mimetype": "text/x-python",
   "name": "python",
   "nbconvert_exporter": "python",
   "pygments_lexer": "ipython3",
   "version": "3.7.11"
  },
  "orig_nbformat": 4,
  "vscode": {
   "interpreter": {
    "hash": "a72aabb76f9e4cf8b68e7cdbe6f884b3fcae82761f876f206d05dd6064cd4a20"
   }
  }
 },
 "nbformat": 4,
 "nbformat_minor": 2
}
