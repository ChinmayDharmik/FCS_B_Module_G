{
 "cells": [
  {
   "cell_type": "code",
   "execution_count": 1,
   "metadata": {},
   "outputs": [],
   "source": [
    "from collections import deque\n",
    "\n",
    "# These imports are for marking only. Please don't rely on them in writing your solution.\n",
    "import otter\n",
    "grader = otter.Notebook()"
   ]
  },
  {
   "cell_type": "markdown",
   "metadata": {
    "tags": []
   },
   "source": [
    "# <mark style=\"background: #843fa1; color: #ffffff;\" >&nbsp;G&nbsp;</mark>&ensp;Graphs (i)\n",
    "\n",
    "------\n",
    "\n",
    "### Instructions:\n",
    "\n",
    "- Complete 50 points worth of questions to pass the assessment\n",
    "- You can attempt any number of questions and in any order provided you pass at least 50 points.\n",
    "- Each submitted answer **must** use the function definition defined by the questions below. You may write and invoke other helper functions to complete your answer so long as the submission includes the stipulated function to call your code.\n",
    "- These questions should be attempted directly in this notebook.\n",
    "- Be sure to check your work before submitting.\n",
    "- Do not remove any provided markings from the answer spaces.\n",
    "- Do not make any changes to this notebook outside of the answer spaces provided.\n",
    "- In testing your own code, remember to check 'edge cases' such as:\n",
    "  - zero length input,\n",
    "  - out of bounds indexes to a list, and\n",
    "- These are habits of \"defensive programming\" that make your code more robust.\n",
    "\n",
    "#### Submitting\n",
    "\n",
    "- Reset your outputs before submitting by selecting the `Kernel` menu then `Restart & Run All`.\n",
    "- Don't forget to save your notebook after this step.\n",
    "- Submit your .ipynb file to Gradescope.\n",
    "- You can submit as many times as needed.\n",
    "- When reviewing results, **ignore** any results listed under \"Public Tests\"  \n",
    "  (There are no \"Public Tests\" in this assignment)\n",
    "\n",
    "For more information, see the assessment page."
   ]
  },
  {
   "cell_type": "markdown",
   "metadata": {},
   "source": [
    "## Graphs\n",
    "\n",
    "This practical assumes that you are familiar with the object-oriented sample implementation of graphs presented in the course. This reference code is provided to allow you to extend the provided classes using (single or multi-level) inheritance. It is strongly suggested that you do not modify this base code (which the autograder also relies upon) but rather extend the classes in order to answer the questions below. \n",
    "\n",
    "You are not compelled to make use of the provided code and may answer the questions as you see fit."
   ]
  },
  {
   "cell_type": "code",
   "execution_count": 2,
   "metadata": {},
   "outputs": [],
   "source": [
    "class GraphVertex:\n",
    "\n",
    "    def __init__(self, vertex_id = None):\n",
    "        self._id = vertex_id\n",
    "        self._adjacent = dict()\n",
    "\n",
    "    #def __str__(self):\n",
    "    #   return 'id: ' + str(self._id) + ', adjacent: ' + str([x._id for x in self._adjacent.values()])\n",
    "\n",
    "    def add_neighbour(self, neighbour):\n",
    "        self._adjacent[neighbour._id] = neighbour\n",
    "\n",
    "    def get_connections(self):\n",
    "        return self._adjacent.values()  \n",
    "\n",
    "    def set_id(self, vertex_id):\n",
    "        self._id = vertex_id\n",
    "\n",
    "    def get_id(self):\n",
    "        return self._id\n",
    "                \n",
    "class Graph:\n",
    "    \n",
    "    def __init__(self):\n",
    "        self._vertex_dict = dict()\n",
    "            \n",
    "    def print_graph(self):\n",
    "        for v in self._vertex_dict.values():\n",
    "            print (v)\n",
    "\n",
    "    def add_vertex(self, vertex_id):\n",
    "        v = GraphVertex(vertex_id)\n",
    "        self._vertex_dict[vertex_id] = v\n",
    "        return v\n",
    "    \n",
    "    def get_vertex(self, vertex_id):\n",
    "        return self._vertex_dict[vertex_id]\n",
    "\n",
    "    def get_vertex_dict (self):\n",
    "        return self._vertex_dict\n",
    "    \n",
    "    def add_edge (self, v1, v2):\n",
    "        v1.add_neighbour (v2)\n",
    "        v2.add_neighbour (v1)"
   ]
  },
  {
   "cell_type": "markdown",
   "metadata": {},
   "source": [
    "#### Question 01 &nbsp;&nbsp;&nbsp;&nbsp;&nbsp;&nbsp;(10 Points)\n",
    "\n",
    "Write a class `Q1Vertex` with protected instance variables `id` and `weight`. Add (or inherit) the following public methods:\n",
    "```python\n",
    "    def set_id (self, vertex_id):\n",
    "        ...\n",
    "    def get_id (self):\n",
    "        ...    \n",
    "    def set_weight (self, weight):\n",
    "        ...\n",
    "    def get_weight (self):\n",
    "        ...    \n",
    "```"
   ]
  },
  {
   "cell_type": "code",
   "execution_count": 3,
   "metadata": {
    "tags": []
   },
   "outputs": [],
   "source": [
    "# Write your solution here\n",
    "class Q1Vertex(GraphVertex):\n",
    "    def __init__(self, vertex_id=None, weight=0):\n",
    "        super().__init__(vertex_id)\n",
    "        self._weight = weight\n",
    "    def set_id (self, vertex_id):\n",
    "        self._id = vertex_id\n",
    "    def get_id (self):\n",
    "        return self._id\n",
    "    def set_weight (self, weight):\n",
    "        self._weight = weight\n",
    "    def get_weight (self):\n",
    "        return self._weight"
   ]
  },
  {
   "cell_type": "markdown",
   "metadata": {},
   "source": [
    "#### Question 02 &nbsp;&nbsp;&nbsp;&nbsp;&nbsp;&nbsp;(10 Points)\n",
    "\n",
    "Extend `Q1Vertex` to create a class `Q2Vertex` to allow a neighbour to be added via an undirected, weighted edge as follows:\n",
    "```python\n",
    "class Q2Vertex(Q1Vertex):\n",
    "    ...\n",
    "    def add_undirected (self, vertex, edge_weight):\n",
    "        ''' Add a neighbouring vertex with the given edge weighting.'''\n",
    "        \n",
    "    def get_neighbours (self):\n",
    "        ''' Return a list of neighbours as tuples of (id, edge_weight). '''\n",
    "```\n",
    "For example, given three neighbouring vertices with id's '2', '3' & '4' and weightings to those vertices of '3.4', '4.7' & '1.4' respectively, `get_neighbours` would return a list `[('2', 3.4), ('3', 4.7), ('4', 1.4)]`. \n"
   ]
  },
  {
   "cell_type": "code",
   "execution_count": 4,
   "metadata": {
    "tags": []
   },
   "outputs": [],
   "source": [
    "# Write your solution here\n",
    "class Q2Vertex(Q1Vertex):\n",
    "    def __init__(self, vertex_id=None, weight=0):\n",
    "        super().__init__(vertex_id, weight)\n",
    "    def add_undirected (self, vertex, edge_weight):\n",
    "        ''' Add a neighbouring vertex with the given edge weighting.'''\n",
    "        self._adjacent[vertex]=edge_weight\n",
    "        \n",
    "    def get_neighbours (self):\n",
    "        ''' Return a list of neighbours as tuples of (id, edge_weight). '''\n",
    "        return [(x._id,y) for x,y in self._adjacent.items()]"
   ]
  },
  {
   "cell_type": "markdown",
   "metadata": {},
   "source": [
    "#### Question 03 &nbsp;&nbsp;&nbsp;&nbsp;&nbsp;&nbsp;(10 Points)\n",
    "\n",
    "Extend `Q2Vertex` to create a class `Q3Vertex` with a function that returns the degree of the vertex:\n",
    "```python\n",
    "class Q3Vertex(Q2Vertex):\n",
    "    def degree(self):\n",
    "        ''' Return the degree of this vertex as the number of edges that connect this vertex to others.'''\n",
    "```    "
   ]
  },
  {
   "cell_type": "code",
   "execution_count": 5,
   "metadata": {
    "tags": []
   },
   "outputs": [],
   "source": [
    "# Write your solution here\n",
    "class Q3Vertex(Q2Vertex):\n",
    "    def __init__(self, vertex_id=None, weight=0):\n",
    "        super().__init__(vertex_id, weight)\n",
    "    def degree(self):\n",
    "        ''' Return the degree of this vertex as the number of edges that connect this vertex to others.'''\n",
    "        return len(self._adjacent.keys())"
   ]
  },
  {
   "cell_type": "markdown",
   "metadata": {},
   "source": [
    "#### Question 04 &nbsp;&nbsp;&nbsp;&nbsp;&nbsp;&nbsp;(10 Points)\n",
    "\n",
    "Extend `Q3Vertex` to create a class `Q4Vertex` that supports a directed graph with the function `add_directed` that indicates with the flag `traversable` whether the edge can be traversed from `self` to `target_vertex`. Secondly, add a function that returns True when a vertex (**identified by id**) is adjacent and traversable. \n",
    "```python\n",
    "class Q4Vertex(Q3Vertex):\n",
    "    ...\n",
    "    def add_directed (self, target_vertex, edge_weight, traversable):\n",
    "        '''\n",
    "        Add a neighbouring vertex object with the given edge weighting that records if the edge is traversable.\n",
    "        '''\n",
    "    def is_adjacent (self, target_id):\n",
    "        '''\n",
    "        Returns True when the target_id identifies a vertex that is adjacent and traversable. Otherwise False.\n",
    "        '''\n",
    "```\n",
    "For example, given an edge-weighted directed graph:</br>\n",
    "<img src=\"https://i.stack.imgur.com/7C2kD.png\" alt=\"edge-weighted directed graph\" style=\"height: 307px; width: 503px; align: left\"></br>\n",
    "A call to `vertex_B.is_adjacent('C')` would return `True`."
   ]
  },
  {
   "cell_type": "code",
   "execution_count": 6,
   "metadata": {
    "tags": []
   },
   "outputs": [],
   "source": [
    "# Write your solution here\n",
    "class Q4Vertex(Q3Vertex):\n",
    "    def __init__(self, vertex_id=None, weight=0):\n",
    "        super().__init__(vertex_id, weight)\n",
    "    def add_directed (self, target_vertex, edge_weight, traversable):\n",
    "        '''\n",
    "        Add a neighbouring vertex object with the given edge weighting that records if the edge is traversable.\n",
    "        '''\n",
    "        self._adjacent[target_vertex]={'edge_weight':edge_weight,'traversable':traversable}\n",
    "    def is_adjacent (self, target_id):\n",
    "        '''\n",
    "        Returns True when the target_id identifies a vertex that is adjacent and traversable. Otherwise False.\n",
    "        '''\n",
    "        for k,v in self._adjacent.items():\n",
    "            if k.get_id() == target_id and v['traversable']==True:\n",
    "                return True\n",
    "        return False"
   ]
  },
  {
   "cell_type": "markdown",
   "metadata": {},
   "source": [
    "#### Question 05 &nbsp;&nbsp;&nbsp;&nbsp;&nbsp;&nbsp;(10 Points)\n",
    "\n",
    "Extend `Q4Vertex` to create a class `Q5Vertex` that produces an adjacency list for a directed graph in the form of a list of tuples with (id, edge_weight).\n",
    "```python\n",
    "        def get_adjacency_list (self):\n",
    "        ''' Return a list of traversable neighbours as tuples of\n",
    "        (id, edge_weight).'''\n",
    "```\n",
    "In the example directed graph above, a call to `vertex_B.get_adjacency_list()` would return `[('C', 3), ('D', 2), ('E', 1)]`."
   ]
  },
  {
   "cell_type": "code",
   "execution_count": 7,
   "metadata": {
    "tags": []
   },
   "outputs": [],
   "source": [
    "# Write your solution here\n",
    "class Q5Vertex(Q4Vertex):\n",
    "    def __init__(self, vertex_id=None, weight=0):\n",
    "        super().__init__(vertex_id, weight)\n",
    "    def get_adjacency_list (self):\n",
    "        ''' Return a list of traversable neighbours as tuples of\n",
    "        (id, edge_weight).'''\n",
    "        lst = []\n",
    "        for x,y in self._adjacent.items():\n",
    "            if y['traversable']:\n",
    "                lst.append((x.get_id(),y['edge_weight']))\n",
    "        return lst"
   ]
  },
  {
   "cell_type": "markdown",
   "metadata": {
    "tags": []
   },
   "source": [
    "#### Question 06 &nbsp;&nbsp;&nbsp;&nbsp;&nbsp;&nbsp;(10 Points)\n",
    "\n",
    "Create a class `Q6Graph` that represents a directed graph containing a set of edge-weighted vertices. Add methods that allow the addition of vertices and edges according to the function definitions below and a function `get_iterative_dfs_path_edge_weight` that finds **any** traversable path between a start and stop vertice using an **iterative** Depth First Search and returns the sum of the edge weights on the path traversed.\n",
    "```python\n",
    "class Q6Graph:\n",
    "\n",
    "    def add_vertex(self, vertex_id):\n",
    "        ''' Returns a vertex to the graph with the given id. '''\n",
    "    def add_directed_edge_with_weight(self, source_id, destination_id, weight):       \n",
    "        ''' \n",
    "        Add a directed edge from the vertex with id 'source_id' to the vertex \n",
    "        with id 'destination_id' and apply a weight.\n",
    "        '''\n",
    "    def get_iterative_dfs_path_edge_weight(self, start_id, stop_id):\n",
    "        ''' Return the sum of edge weights between start and stop vertices\n",
    "        using DFS.'''\n",
    "```\n",
    "\n",
    "For example, in the graph depicted above, a call:\n",
    "```python\n",
    "    my_graph.get_iterative_dfs_path_edge_weight('G', 'A') \n",
    "```\n",
    "would return the integer `3`."
   ]
  },
  {
   "cell_type": "code",
   "execution_count": 8,
   "metadata": {
    "tags": []
   },
   "outputs": [],
   "source": [
    "# Write your solution here\n",
    "class Q6Graph(Graph):\n",
    "    def __init__(self):\n",
    "        super().__init__()\n",
    "        \n",
    "    def add_vertex(self, vertex_id):\n",
    "        ''' Returns a vertex to the graph with the given id. '''\n",
    "        v = Q5Vertex(vertex_id)\n",
    "        self._vertex_dict[vertex_id] = v\n",
    "        return v\n",
    "\n",
    "    def add_directed_edge_with_weight(self, source_id, destination_id, weight):       \n",
    "        ''' \n",
    "        Add a directed edge from the vertex with id 'source_id' to the vertex \n",
    "        with id 'destination_id' and apply a weight.\n",
    "        '''\n",
    "        self._vertex_dict[source_id].add_directed(self._vertex_dict[destination_id], weight, True)\n",
    "        self._vertex_dict[destination_id].add_directed(self._vertex_dict[source_id], weight, False)\n",
    "        \n",
    "    def get_iterative_dfs_path_edge_weight(self, start_id, stop_id):\n",
    "        ''' Return the sum of edge weights between start and stop vertices\n",
    "        using DFS.'''\n",
    "        visited = {i: False for i in list(self._vertex_dict.keys())}\n",
    "        parent = {i: -1 for i in list(self._vertex_dict.keys())}\n",
    "        wt = 0\n",
    "        queue=[]\n",
    "\n",
    "        queue.append(start_id)\n",
    "        visited[start_id] = True\n",
    "\n",
    "        while queue:\n",
    "            s = queue.pop(0)\n",
    "\n",
    "            if s == stop_id:\n",
    "                cur = s\n",
    "                while cur != start_id:\n",
    "                    j = parent[cur]\n",
    "                    lst = self._vertex_dict[j].get_adjacency_list()\n",
    "                    for k in lst:\n",
    "                        if k[0] == cur:\n",
    "                            wt+=k[1]\n",
    "                    cur = parent[cur]\n",
    "                return wt\n",
    "\n",
    "            neigh = dict({})\n",
    "            for x in self._vertex_dict[s].get_neighbours():\n",
    "                if x[1]['traversable']:\n",
    "                    neigh[x[0]] = x[1]['edge_weight']\n",
    "\n",
    "            for i in neigh:\n",
    "                if visited[i] == False:\n",
    "                    queue.append(i)\n",
    "                    visited[i] = True\n",
    "                    parent[i] = s\n",
    "        \n",
    "        return None\n",
    "    \n",
    "g = Q6Graph()\n",
    "vA = g.add_vertex('A')\n",
    "vB = g.add_vertex('B')\n",
    "vC = g.add_vertex('C')\n",
    "vD = g.add_vertex('D')\n",
    "vE = g.add_vertex('E')\n",
    "vF = g.add_vertex('F')\n",
    "vG = g.add_vertex('G')\n",
    "g.add_directed_edge_with_weight ('A', 'B', 1)\n",
    "g.add_directed_edge_with_weight ('B', 'C', 3)\n",
    "g.add_directed_edge_with_weight ('B', 'D', 2)\n",
    "g.add_directed_edge_with_weight ('B', 'E', 1)\n",
    "g.add_directed_edge_with_weight ('C', 'E', 4)\n",
    "g.add_directed_edge_with_weight ('C', 'D', 1)\n",
    "g.add_directed_edge_with_weight ('E', 'F', 3)\n",
    "g.add_directed_edge_with_weight ('D', 'A', 2)\n",
    "g.add_directed_edge_with_weight ('D', 'E', 2)\n",
    "g.add_directed_edge_with_weight ('G', 'D', 1)\n",
    "g.get_iterative_dfs_path_edge_weight('A', 'D')\n",
    "#g.get_iterative_dfs_path_edge_weight('G', 'A')"
   ]
  },
  {
   "cell_type": "markdown",
   "metadata": {
    "tags": []
   },
   "source": [
    "#### Question 07 &nbsp;&nbsp;&nbsp;&nbsp;&nbsp;&nbsp;(10 Points)\n",
    "\n",
    "Create a class `Q7Graph` that extends `Q6Graph` to add a method to do the same DFS as Question 6 using recursion:\n",
    "```python\n",
    "class Q7Graph:\n",
    "\n",
    "    def get_recursive_dfs_path_edge_weight(self, start_id, stop_id):\n",
    "        ''' Return the sum of edge weights between start and stop \n",
    "        vertices using a recursive DFS.'''\n",
    "```\n",
    "In a module test, you may be asked to demonstrate your mastery of both iterative and recursive solutions to these search algorithms. "
   ]
  },
  {
   "cell_type": "code",
   "execution_count": 9,
   "metadata": {
    "tags": []
   },
   "outputs": [
    {
     "data": {
      "text/plain": [
       "3"
      ]
     },
     "execution_count": 9,
     "metadata": {},
     "output_type": "execute_result"
    }
   ],
   "source": [
    "\n",
    "class Q7Graph(Q6Graph):\n",
    "    def __init__(self):\n",
    "        super().__init__()\n",
    "        \n",
    "    def get_recursive_dfs_paths(self, start_id, stop_id, visited = []):\n",
    "        ''' Return the sum of edge weights between start and stop \n",
    "        vertices using a recursive DFS.'''\n",
    "        visited =visited+ [start_id]\n",
    "\n",
    "        if start_id == stop_id:\n",
    "            return [visited]\n",
    "        \n",
    "        if start_id not in self._vertex_dict.keys():\n",
    "            visited.remove(start_id)\n",
    "            return []\n",
    "        paths = []\n",
    "\n",
    "        neigh = dict({})\n",
    "        for x in self._vertex_dict[start_id].get_neighbours():\n",
    "            if x[1]['traversable']:\n",
    "                neigh[x[0]] = x[1]['edge_weight']\n",
    "\n",
    "        for node,data in neigh.items():\n",
    "            if node not in visited:\n",
    "                new_paths = self.get_recursive_dfs_paths(node,stop_id,visited)\n",
    "                for p in new_paths:\n",
    "                    paths.append(p)\n",
    "        return paths\n",
    "    \n",
    "    def get_recursive_dfs_path_edge_weight(self, start_id, stop_id,):\n",
    "        paths  = self.get_recursive_dfs_paths(start_id,stop_id)\n",
    "        wt = len(paths)*[0]\n",
    "        for key ,path in enumerate(paths):\n",
    "            i,j= 0,1\n",
    "            while j < len(path):\n",
    "                wt[key] += dict(self._vertex_dict[path[i]].get_neighbours())[path[j]]['edge_weight']\n",
    "                i+=1\n",
    "                j+=1\n",
    "        return min(wt)\n",
    "\n",
    "g = Q7Graph()\n",
    "vA = g.add_vertex('A')\n",
    "vB = g.add_vertex('B')\n",
    "vC = g.add_vertex('C')\n",
    "vD = g.add_vertex('D')\n",
    "vE = g.add_vertex('E')\n",
    "vF = g.add_vertex('F')\n",
    "vG = g.add_vertex('G')\n",
    "g.add_directed_edge_with_weight ('A', 'B', 1)\n",
    "g.add_directed_edge_with_weight ('B', 'C', 3)\n",
    "g.add_directed_edge_with_weight ('B', 'D', 2)\n",
    "g.add_directed_edge_with_weight ('B', 'E', 1)\n",
    "g.add_directed_edge_with_weight ('C', 'E', 4)\n",
    "g.add_directed_edge_with_weight ('C', 'D', 1)\n",
    "g.add_directed_edge_with_weight ('E', 'F', 3)\n",
    "g.add_directed_edge_with_weight ('D', 'A', 2)\n",
    "g.add_directed_edge_with_weight ('D', 'E', 2)\n",
    "g.add_directed_edge_with_weight ('G', 'D', 1)\n",
    "g.get_recursive_dfs_paths('A', 'D')\n",
    "g.get_recursive_dfs_path_edge_weight('A', 'D')\n",
    "g.get_recursive_dfs_path_edge_weight('G', 'A')"
   ]
  },
  {
   "cell_type": "markdown",
   "metadata": {
    "tags": []
   },
   "source": [
    "#### Question 08 &nbsp;&nbsp;&nbsp;&nbsp;&nbsp;&nbsp;(10 Points)\n",
    "\n",
    "Extend the class `Q7Graph` to create `Q8Graph` with a method:\n",
    "```python\n",
    "    def add_undirected (self, v1, v2):\n",
    "```\n",
    "to add undirected edges between vertices and a function:\n",
    "```python\n",
    "    def iterative_bfs_path_exists (self, v1, v2):\n",
    "```\n",
    "that searches an undirected graph using an **iterative** Breadth First Search from the vertex `v1` to `v2` and returns `True` if a traversible path from the start and stop vertices.\n",
    "\n",
    "For example, in the graph:</br>\n",
    "<img src=\"https://www.log2base2.com/images/ds/undirected-graph.png\" alt=\"udirected graph\"></br>\n",
    "a call:\n",
    "```python\n",
    "    my_graph.iterative_bfs_path_exists(vertex_0, vertex_4)\n",
    "```\n",
    "would return `True`. But searching for an unconnected vertex would return `False`."
   ]
  },
  {
   "cell_type": "code",
   "execution_count": 10,
   "metadata": {
    "tags": []
   },
   "outputs": [
    {
     "data": {
      "text/plain": [
       "False"
      ]
     },
     "execution_count": 10,
     "metadata": {},
     "output_type": "execute_result"
    }
   ],
   "source": [
    "# Write your solution here\n",
    "class Q8Graph(Q7Graph):\n",
    "    def __init__(self):\n",
    "        super().__init__()\n",
    "        \n",
    "    def add_undirected (self, v1, v2):\n",
    "        self._vertex_dict[v1.get_id()].add_directed(self._vertex_dict[v2.get_id()], 1, True)\n",
    "        self._vertex_dict[v2.get_id()].add_directed(self._vertex_dict[v1.get_id()], 1, True)\n",
    "    \n",
    "    def iterative_bfs_path_exists (self, v1, v2):\n",
    "        Q = [v1.get_id()]\n",
    "        visited = [v1.get_id()]\n",
    "        while Q:\n",
    "            cur = Q.pop(0)\n",
    "            if cur == v2.get_id(): return True\n",
    "            neigh = dict({})\n",
    "            for x in self._vertex_dict[cur].get_neighbours():\n",
    "                if x[1]['traversable']:\n",
    "                    neigh[x[0]] = x[1]['edge_weight']\n",
    "            for i in neigh.keys():\n",
    "                if i not in visited:\n",
    "                    Q.append(i)\n",
    "                    visited.append(i)\n",
    "        return False\n",
    "\n",
    "g = Q8Graph()\n",
    "v0 = g.add_vertex('0')\n",
    "v1 = g.add_vertex('1')\n",
    "v2 = g.add_vertex('2')\n",
    "v3 = g.add_vertex('3')\n",
    "v4 = g.add_vertex('4')\n",
    "v5 = g.add_vertex('5')\n",
    "g.add_undirected(v0, v1)\n",
    "g.add_undirected(v0, v2)\n",
    "g.add_undirected(v0, v3)\n",
    "g.add_undirected(v1, v4)\n",
    "g.add_undirected(v4, v3)\n",
    "g.add_undirected(v2, v3)\n",
    "g.iterative_bfs_path_exists(v0, v5)"
   ]
  },
  {
   "cell_type": "markdown",
   "metadata": {},
   "source": [
    "#### Question 09 &nbsp;&nbsp;&nbsp;&nbsp;&nbsp;&nbsp;(20 Points)\n",
    "\n",
    "Extend the class `Q6Graph` which supports weighted, directed graphs and add a function:\n",
    "```python\n",
    "def get_bfs_weighted_path(self, vstart, vstop):\n",
    "    ''' \n",
    "    Returns a tuple: \n",
    "        found: True when the path exists otherwise False\n",
    "        path: being a list of vertex ids traversed from vstart to vstop, and\n",
    "        weight: the sum of all edge weights on the path from vstart to vstop\n",
    "    '''\n",
    "``` \n",
    "that searches for a path between `vstart` and `vstop` and returns the tuple:\n",
    "```python\n",
    "    found, path, weight\n",
    "```\n",
    "such that a graph:<br />\n",
    "<img src=\"https://i.stack.imgur.com/7C2kD.png\" alt=\"edge-weighted directed graph\" style=\"height: 307px; width: 503px; align: left\"></br>\n",
    "will return:\n",
    "```python\n",
    "(True, ['G', 'D', 'E', 'F'], 6)\n",
    "```\n",
    "when using BFS to find the path between vertex `G` and vertex `F`."
   ]
  },
  {
   "cell_type": "code",
   "execution_count": 11,
   "metadata": {
    "tags": []
   },
   "outputs": [
    {
     "data": {
      "text/plain": [
       "(True, ['G', 'D', 'E', 'F'], 6)"
      ]
     },
     "execution_count": 11,
     "metadata": {},
     "output_type": "execute_result"
    }
   ],
   "source": [
    "# Write your solution here\n",
    "class Q9Graph(Q6Graph):\n",
    "    def get_bfs_weighted_path(self, vstart, vstop):\n",
    "        q = []\n",
    "        path = []\n",
    "        path.append(vstart.get_id())\n",
    "        q.append(path.copy())\n",
    "\n",
    "        while q:\n",
    "            path = q.pop(0)\n",
    "            last = path[-1]\n",
    "\n",
    "            if last == vstop.get_id():\n",
    "                wt = 0\n",
    "                i,j=0,1\n",
    "                while j < len(path):\n",
    "                    wt += dict(self._vertex_dict[path[i]].get_neighbours())[path[j]]['edge_weight']\n",
    "                    i+=1\n",
    "                    j+=1\n",
    "                return True, path ,wt\n",
    "            \n",
    "            g = dict({})\n",
    "            for x in self._vertex_dict[last].get_neighbours():\n",
    "                if x[1]['traversable']:\n",
    "                    g[x[0]] = x[1]['edge_weight']\n",
    "        \n",
    "            for i in g:\n",
    "                if i not in path:\n",
    "                    newpath = path.copy()\n",
    "                    newpath.append(i)\n",
    "                    q.append(newpath)\n",
    "        return(False, [], 0)\n",
    "\n",
    "\n",
    "\n",
    "\n",
    "\n",
    "g = Q9Graph()\n",
    "vA = g.add_vertex('A')\n",
    "vB = g.add_vertex('B')\n",
    "vC = g.add_vertex('C')\n",
    "vD = g.add_vertex('D')\n",
    "vE = g.add_vertex('E')\n",
    "vF = g.add_vertex('F')\n",
    "vG = g.add_vertex('G')\n",
    "g.add_directed_edge_with_weight ('A', 'B', 1)\n",
    "g.add_directed_edge_with_weight ('B', 'C', 3)\n",
    "g.add_directed_edge_with_weight ('B', 'D', 2)\n",
    "g.add_directed_edge_with_weight ('B', 'E', 1)\n",
    "g.add_directed_edge_with_weight ('C', 'E', 4)\n",
    "g.add_directed_edge_with_weight ('C', 'D', 1)\n",
    "g.add_directed_edge_with_weight ('E', 'F', 3)\n",
    "g.add_directed_edge_with_weight ('D', 'A', 2)\n",
    "g.add_directed_edge_with_weight ('D', 'E', 2)\n",
    "g.add_directed_edge_with_weight ('G', 'D', 1)\n",
    "g.get_bfs_weighted_path(vG, vF)"
   ]
  }
 ],
 "metadata": {
  "kernelspec": {
   "display_name": "Python 3 (ipykernel)",
   "language": "python",
   "name": "python3"
  },
  "language_info": {
   "codemirror_mode": {
    "name": "ipython",
    "version": 3
   },
   "file_extension": ".py",
   "mimetype": "text/x-python",
   "name": "python",
   "nbconvert_exporter": "python",
   "pygments_lexer": "ipython3",
   "version": "3.7.11"
  },
  "otter": {
   "tests": {
    "Question 01": {
     "name": "Question 01",
     "points": 10,
     "suites": [
      {
       "cases": [],
       "scored": true,
       "setup": "",
       "teardown": "",
       "type": "doctest"
      }
     ]
    },
    "Question 02": {
     "name": "Question 02",
     "points": 10,
     "suites": [
      {
       "cases": [],
       "scored": true,
       "setup": "",
       "teardown": "",
       "type": "doctest"
      }
     ]
    },
    "Question 03": {
     "name": "Question 03",
     "points": 10,
     "suites": [
      {
       "cases": [],
       "scored": true,
       "setup": "",
       "teardown": "",
       "type": "doctest"
      }
     ]
    },
    "Question 04": {
     "name": "Question 04",
     "points": 10,
     "suites": [
      {
       "cases": [],
       "scored": true,
       "setup": "",
       "teardown": "",
       "type": "doctest"
      }
     ]
    },
    "Question 05": {
     "name": "Question 05",
     "points": 10,
     "suites": [
      {
       "cases": [],
       "scored": true,
       "setup": "",
       "teardown": "",
       "type": "doctest"
      }
     ]
    },
    "Question 06": {
     "name": "Question 06",
     "points": 10,
     "suites": [
      {
       "cases": [],
       "scored": true,
       "setup": "",
       "teardown": "",
       "type": "doctest"
      }
     ]
    },
    "Question 07": {
     "name": "Question 07",
     "points": 10,
     "suites": [
      {
       "cases": [],
       "scored": true,
       "setup": "",
       "teardown": "",
       "type": "doctest"
      }
     ]
    },
    "Question 08": {
     "name": "Question 08",
     "points": 10,
     "suites": [
      {
       "cases": [],
       "scored": true,
       "setup": "",
       "teardown": "",
       "type": "doctest"
      }
     ]
    },
    "Question 09": {
     "name": "Question 09",
     "points": 20,
     "suites": [
      {
       "cases": [],
       "scored": true,
       "setup": "",
       "teardown": "",
       "type": "doctest"
      }
     ]
    },
    "q1": {
     "name": "q1",
     "points": 1,
     "suites": [
      {
       "cases": [],
       "scored": true,
       "setup": "",
       "teardown": "",
       "type": "doctest"
      }
     ]
    },
    "q10": {
     "name": "q10",
     "points": 4,
     "suites": [
      {
       "cases": [],
       "scored": true,
       "setup": "",
       "teardown": "",
       "type": "doctest"
      }
     ]
    },
    "q11": {
     "name": "q11",
     "points": 6,
     "suites": [
      {
       "cases": [],
       "scored": true,
       "setup": "",
       "teardown": "",
       "type": "doctest"
      }
     ]
    },
    "q12": {
     "name": "q12",
     "points": 6,
     "suites": [
      {
       "cases": [],
       "scored": true,
       "setup": "",
       "teardown": "",
       "type": "doctest"
      }
     ]
    },
    "q13": {
     "name": "q13",
     "points": 6,
     "suites": [
      {
       "cases": [],
       "scored": true,
       "setup": "",
       "teardown": "",
       "type": "doctest"
      }
     ]
    },
    "q14": {
     "name": "q14",
     "points": 6,
     "suites": [
      {
       "cases": [],
       "scored": true,
       "setup": "",
       "teardown": "",
       "type": "doctest"
      }
     ]
    },
    "q15": {
     "name": "q15",
     "points": 6,
     "suites": [
      {
       "cases": [],
       "scored": true,
       "setup": "",
       "teardown": "",
       "type": "doctest"
      }
     ]
    },
    "q16": {
     "name": "q16",
     "points": 6,
     "suites": [
      {
       "cases": [],
       "scored": true,
       "setup": "",
       "teardown": "",
       "type": "doctest"
      }
     ]
    },
    "q17": {
     "name": "q17",
     "points": 8,
     "suites": [
      {
       "cases": [],
       "scored": true,
       "setup": "",
       "teardown": "",
       "type": "doctest"
      }
     ]
    },
    "q18": {
     "name": "q18",
     "points": 8,
     "suites": [
      {
       "cases": [],
       "scored": true,
       "setup": "",
       "teardown": "",
       "type": "doctest"
      }
     ]
    },
    "q19": {
     "name": "q19",
     "points": 12,
     "suites": [
      {
       "cases": [],
       "scored": true,
       "setup": "",
       "teardown": "",
       "type": "doctest"
      }
     ]
    },
    "q2": {
     "name": "q2",
     "points": 1,
     "suites": [
      {
       "cases": [],
       "scored": true,
       "setup": "",
       "teardown": "",
       "type": "doctest"
      }
     ]
    },
    "q20": {
     "name": "q20",
     "points": 12,
     "suites": [
      {
       "cases": [],
       "scored": true,
       "setup": "",
       "teardown": "",
       "type": "doctest"
      }
     ]
    },
    "q3": {
     "name": "q3",
     "points": 1,
     "suites": [
      {
       "cases": [],
       "scored": true,
       "setup": "",
       "teardown": "",
       "type": "doctest"
      }
     ]
    },
    "q4": {
     "name": "q4",
     "points": 1,
     "suites": [
      {
       "cases": [],
       "scored": true,
       "setup": "",
       "teardown": "",
       "type": "doctest"
      }
     ]
    },
    "q5": {
     "name": "q5",
     "points": 2,
     "suites": [
      {
       "cases": [],
       "scored": true,
       "setup": "",
       "teardown": "",
       "type": "doctest"
      }
     ]
    },
    "q6": {
     "name": "q6",
     "points": 2,
     "suites": [
      {
       "cases": [],
       "scored": true,
       "setup": "",
       "teardown": "",
       "type": "doctest"
      }
     ]
    },
    "q7": {
     "name": "q7",
     "points": 4,
     "suites": [
      {
       "cases": [],
       "scored": true,
       "setup": "",
       "teardown": "",
       "type": "doctest"
      }
     ]
    },
    "q8": {
     "name": "q8",
     "points": 4,
     "suites": [
      {
       "cases": [],
       "scored": true,
       "setup": "",
       "teardown": "",
       "type": "doctest"
      }
     ]
    },
    "q9": {
     "name": "q9",
     "points": 4,
     "suites": [
      {
       "cases": [],
       "scored": true,
       "setup": "",
       "teardown": "",
       "type": "doctest"
      }
     ]
    }
   }
  },
  "varInspector": {
   "cols": {
    "lenName": 16,
    "lenType": 16,
    "lenVar": 40
   },
   "kernels_config": {
    "python": {
     "delete_cmd_postfix": "",
     "delete_cmd_prefix": "del ",
     "library": "var_list.py",
     "varRefreshCmd": "print(var_dic_list())"
    },
    "r": {
     "delete_cmd_postfix": ") ",
     "delete_cmd_prefix": "rm(",
     "library": "var_list.r",
     "varRefreshCmd": "cat(var_dic_list()) "
    }
   },
   "types_to_exclude": [
    "module",
    "function",
    "builtin_function_or_method",
    "instance",
    "_Feature"
   ],
   "window_display": false
  },
  "vscode": {
   "interpreter": {
    "hash": "a72aabb76f9e4cf8b68e7cdbe6f884b3fcae82761f876f206d05dd6064cd4a20"
   }
  }
 },
 "nbformat": 4,
 "nbformat_minor": 4
}
