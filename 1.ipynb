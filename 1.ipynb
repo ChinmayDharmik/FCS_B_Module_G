{
 "cells": [
  {
   "cell_type": "code",
   "execution_count": null,
   "metadata": {},
   "outputs": [],
   "source": [
    "wt = 0\n",
    "        cur = self._vertex_dict[start_id]\n",
    "        stack = []\n",
    "        visited= set()\n",
    "        stack.append(start_id)\n",
    "        while len(stack) > 0:\n",
    "            current = stack.pop()\n",
    "            visited.add (current)\n",
    "            \n",
    "            if current == stop_id:\n",
    "                return wt\n",
    "            neigh = dict({})\n",
    "            for x in self._vertex_dict[current].get_neighbours():\n",
    "                if x[1]['traversable']:\n",
    "                    neigh[x[0]] = x[1]['edge_weight']\n",
    "            for v in neigh.keys():\n",
    "                if not v in visited:\n",
    "                    stack.append(v)\n",
    "                    \n",
    "        return None"
   ]
  }
 ],
 "metadata": {
  "kernelspec": {
   "display_name": "Python 3.8.10 64-bit",
   "language": "python",
   "name": "python3"
  },
  "language_info": {
   "name": "python",
   "version": "3.8.10"
  },
  "orig_nbformat": 4,
  "vscode": {
   "interpreter": {
    "hash": "916dbcbb3f70747c44a77c7bcd40155683ae19c65e1c03b4aa3499c5328201f1"
   }
  }
 },
 "nbformat": 4,
 "nbformat_minor": 2
}
