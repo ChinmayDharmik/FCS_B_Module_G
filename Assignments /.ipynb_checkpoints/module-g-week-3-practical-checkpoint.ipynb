{
 "cells": [
  {
   "cell_type": "code",
   "execution_count": null,
   "metadata": {},
   "outputs": [],
   "source": [
    "# These imports are for marking only. Please don't rely on them in writing your solution.\n",
    "import otter\n",
    "grader = otter.Notebook()"
   ]
  },
  {
   "cell_type": "markdown",
   "metadata": {
    "tags": []
   },
   "source": [
    "# <mark style=\"background: #843fa1; color: #ffffff;\" >&nbsp;G&nbsp;</mark>&ensp;Graphs & Trees\n",
    "\n",
    "------\n",
    "\n",
    "### Instructions:\n",
    "\n",
    "- Complete 50 points worth of questions to pass the assessment\n",
    "- You can attempt any number of questions and in any order provided you pass at least 50 points.\n",
    "- Each submitted answer **must** use the function or class definition defined by the questions below. You may write and invoke other helper functions to complete your answer so long as the submission includes the stipulated function to call your code.\n",
    "- These questions should be attempted directly in this notebook.\n",
    "- Be sure to check your work before submitting.\n",
    "- Do not remove any provided markings from the answer spaces.\n",
    "- Do not make any changes to this notebook outside of the answer spaces provided.\n",
    "- In testing your own code, remember to check 'edge cases' such as:\n",
    "  - zero length input, and\n",
    "  - out of bounds indexes to a list.\n",
    "- These are habits of \"defensive programming\" that make your code more robust.\n",
    "\n",
    "#### Submitting\n",
    "\n",
    "- Reset your outputs before submitting:\n",
    "  - Select the `Kernel` menu, then either `Restart & Run Clear Output` or `Restart & Run All`\n",
    "  - Don't forget to save your notebook after this step\n",
    "- Submit your .ipynb file to Gradescope\n",
    "- You can submit as many times as needed\n",
    "- When reviewing results, **ignore** any results listed under \"Public Tests\"  \n",
    "  (There are no \"Public Tests\" in this assignment)\n",
    "\n",
    "For more information, see the assessment page."
   ]
  },
  {
   "cell_type": "markdown",
   "metadata": {},
   "source": [
    "## Shortest Path First\n",
    "\n",
    "This practical assumes that you are familiar with the object-oriented sample implementation of graphs presented in the course. This reference code is provided to allow you to extend the provided classes using (single or multi-level) inheritance. It is suggested that you do not modify this base code but rather extend the classes in order to answer the questions below. You are not compelled to make use of the provided code and may answer the questions as you see fit."
   ]
  },
  {
   "cell_type": "code",
   "execution_count": 1,
   "metadata": {},
   "outputs": [],
   "source": [
    "import math\n",
    "import heapq\n",
    "\n",
    "class DijkstraVertex:\n",
    "    \n",
    "    def __init__(self, node):\n",
    "        self._id = node\n",
    "        self._adjacent = dict()\n",
    "        # Set distance to infinity for all nodes\n",
    "        self._distance = math.inf\n",
    "        # Mark all nodes unvisited        \n",
    "        self._visited = False  \n",
    "        # Predecessor\n",
    "        self._previous = None\n",
    "\n",
    "    def add_neighbour(self, neighbour, weight=0):\n",
    "        self._adjacent[neighbour] = weight\n",
    "\n",
    "    def get_adjacent(self):\n",
    "        return self._adjacent  \n",
    "        \n",
    "    def get_connections(self):\n",
    "        return self._adjacent.keys()  \n",
    "\n",
    "    def get_id(self):\n",
    "        return self._id\n",
    "\n",
    "    def get_weight(self, neighbour):\n",
    "        return self._adjacent[neighbour]\n",
    "\n",
    "    def set_distance(self, dist):\n",
    "        self._distance = dist\n",
    "\n",
    "    def get_distance(self):\n",
    "        return self._distance\n",
    "\n",
    "    def set_previous(self, prev):\n",
    "        self._previous = prev\n",
    "\n",
    "    def get_previous(self):\n",
    "        return self._previous\n",
    "\n",
    "    def set_visited(self):\n",
    "        self._visited = True\n",
    "\n",
    "    def is_visited(self):\n",
    "        return self._visited\n",
    "\n",
    "    def __str__(self):\n",
    "        return str(self._id) + ' adjacent: ' + str([x.id for x in self._adjacent])\n",
    "    \n",
    "    def __lt__(self, other):\n",
    "        return self._distance < other.get_distance()\n",
    "\n",
    "class DijkstraGraph:\n",
    "    \n",
    "    def __init__(self):\n",
    "        self._vertices = dict()\n",
    "\n",
    "    def __iter__(self):\n",
    "        return iter(self._vertices.values())\n",
    "\n",
    "    def add_vertex(self, node):\n",
    "        new_vertex = DijkstraVertex(node)\n",
    "        self._vertices[node] = new_vertex\n",
    "        return new_vertex\n",
    "\n",
    "    def get_vertex(self, n):\n",
    "        if n in self._vertices:\n",
    "            return self._vertices[n]\n",
    "        else:\n",
    "            return None\n",
    "\n",
    "    def add_edge(self, frm, to, cost = 0):\n",
    "        if frm not in self._vertices:\n",
    "            self.add_vertex(frm)\n",
    "        if to not in self._vertices:\n",
    "            self.add_vertex(to)\n",
    "\n",
    "        self._vertices[frm].add_neighbour(self._vertices[to], cost)\n",
    "        self._vertices[to].add_neighbour(self._vertices[frm], cost)\n",
    "\n",
    "    def get_vertices(self):\n",
    "        return list(self._vertices.values())\n",
    "    \n",
    "    def dijkstra_spf (self, start):\n",
    "    \n",
    "        # Set the distance for the start node to zero \n",
    "        start.set_distance(0)\n",
    "\n",
    "        # Put the vertices into the priority queue\n",
    "        unvisited_queue = list(self._vertices.values())\n",
    "        heapq.heapify(unvisited_queue)\n",
    "\n",
    "        while unvisited_queue:\n",
    "            # Pops a vertex with the smallest distance \n",
    "            current = heapq.heappop(unvisited_queue)\n",
    "            current.set_visited()\n",
    "\n",
    "            #for next in v.adjacent:\n",
    "            for next in current.get_adjacent():\n",
    "                # if visited, skip\n",
    "                if next.is_visited():\n",
    "                    continue\n",
    "                new_dist = current.get_distance() + current.get_weight(next)\n",
    "            \n",
    "                if new_dist < next.get_distance():\n",
    "                    next.set_distance(new_dist)\n",
    "                    next.set_previous(current)\n",
    "                    #print ('updated : current = %s next = %s new_dist = %s' \\\n",
    "                    #    %(current.get_id(), next.get_id(), next.get_distance()))\n",
    "                else:\n",
    "                    #print ('not updated : current = %s next = %s new_dist = %s' \\\n",
    "                    #    %(current.get_id(), next.get_id(), next.get_distance()))\n",
    "                    pass\n",
    "\n",
    "            # Rebuild heap\n",
    "            # 1. Pop every item\n",
    "            while unvisited_queue:\n",
    "                heapq.heappop(unvisited_queue)\n",
    "            # 2. Put all vertices not visited into the queue\n",
    "            unvisited_queue = [v for v in list(self._vertices.values()) if not v.is_visited()]\n",
    "            heapq.heapify(unvisited_queue)                       "
   ]
  },
  {
   "cell_type": "markdown",
   "metadata": {},
   "source": [
    "#### Question 01 &nbsp;&nbsp;&nbsp;&nbsp;&nbsp;&nbsp;(15 Points)\n",
    "\n",
    "Given an undirected, edge-weighted graph:</br>\n",
    "<img src=\"https://zschub.github.io/img/edge_weighted_graph.png\" alt=\"edge-weighted graph\" style=\"align: left\"></br>\n",
    "write a function defined as:\n",
    "```python\n",
    "def undirected_shortest_path (vstart, vfinish):\n",
    "    ...\n",
    "``` \n",
    "that accepts `vstart` and `vfinish` as the IDs of start and stop vertices and returns a tuple `(path, weight)` that provides a list of vertex id's along the shortest path from start to finish and the summed weight of edges along the path using Dijkstra's Shortest Path First algorithm.\n",
    "\n",
    "For example, the call:\n",
    "```python\n",
    "path, distance = directed_shortest_path ('4', '3')\n",
    "```\n",
    "would return:\n",
    "```python\n",
    "(['4', '0', '2', '3'], 0.81)\n",
    "```"
   ]
  },
  {
   "cell_type": "code",
   "execution_count": 4,
   "metadata": {
    "tags": []
   },
   "outputs": [
    {
     "data": {
      "text/plain": [
       "(['5', '1'], 0.32)"
      ]
     },
     "execution_count": 4,
     "metadata": {},
     "output_type": "execute_result"
    }
   ],
   "source": [
    "def undirected_shortest_path (vstart, vfinish):\n",
    "    path = []\n",
    "    distance = 0\n",
    "    dict1 = {}\n",
    "    # Create a graph\n",
    "    g = DijkstraGraph()\n",
    "\n",
    "    g.add_vertex('0')\n",
    "    g.add_vertex('1')\n",
    "    g.add_vertex('2')\n",
    "    g.add_vertex('3')\n",
    "    g.add_vertex('4')\n",
    "    g.add_vertex('5')\n",
    "    g.add_vertex('6')\n",
    "    g.add_vertex('7')\n",
    "    g.add_vertex('8')\n",
    "\n",
    "    g.add_edge('5', '1', 0.32)\n",
    "    g.add_edge('5', '7', 0.28)\n",
    "    g.add_edge('4', '7', 0.37)\n",
    "    g.add_edge('5', '4', 0.35)\n",
    "    g.add_edge('7', '1', 0.19)\n",
    "    g.add_edge('7', '0', 0.16)\n",
    "    g.add_edge('1', '2', 0.36)\n",
    "    g.add_edge('1', '3', 0.29)\n",
    "    g.add_edge('3', '6', 0.52)\n",
    "    g.add_edge('6', '4', 0.93)\n",
    "    g.add_edge('6', '0', 0.58)\n",
    "    g.add_edge('6', '2', 0.40)\n",
    "    g.add_edge('0', '4', 0.38)\n",
    "    g.add_edge('7', '2', 0.34)\n",
    "    g.add_edge('0', '2', 0.26)\n",
    "    g.add_edge('2', '3', 0.17)\n",
    "    \n",
    "    \n",
    "    # Get the start vertex\n",
    "    start = g.get_vertex(vstart)\n",
    "    # Get the finish vertex\n",
    "    finish = g.get_vertex(vfinish)\n",
    "    # Run Dijkstra's algorithm\n",
    "    g.dijkstra_spf(start)\n",
    "    # Get the path\n",
    "    current = finish\n",
    "    while current:\n",
    "        path.append(current.get_id())\n",
    "        current = current.get_previous()\n",
    "\n",
    "    # Get the distance\n",
    "    distance = finish.get_distance()\n",
    "    # Reverse the path\n",
    "    path = path[::-1]\n",
    "    # Return the path and the distance\n",
    "    return (path, distance)"
   ]
  },
  {
   "cell_type": "markdown",
   "metadata": {},
   "source": [
    "#### Question 02 &nbsp;&nbsp;&nbsp;&nbsp;&nbsp;&nbsp;(15 Points)\n",
    "\n",
    "Given a directed, edge-weighted graph:</br>\n",
    "<img src=\"https://zschub.github.io/img/directed-edge-weighted.png\" alt=\"edge-weighted directed graph\" style=\"height: 307px; width: 503px; align: left\"></br>\n",
    "write a function defined as:\n",
    "```python\n",
    "def directed_shortest_path (vstart, vfinish):\n",
    "    ...\n",
    "``` \n",
    "that accepts `vstart` and `vfinish` as the IDs of start and stop vertices and returns a tuple `(path, weight)` that provides a list of vertex id's along the directed path from start to finish and the summed weight of edges along the path using Dijkstra's Shortest Path First algorithm.\n",
    "\n",
    "For example, the call:\n",
    "```python\n",
    "path, distance = directed_shortest_path ('G', 'C')\n",
    "```\n",
    "would return:\n",
    "```python\n",
    "(['G', 'D', 'A', 'B', 'C'], 7)\n",
    "```\n",
    "If no path exists, the function must return an empty list and a distance (edge-weight) of `math.inf`."
   ]
  },
  {
   "cell_type": "code",
   "execution_count": 5,
   "metadata": {
    "tags": []
   },
   "outputs": [
    {
     "ename": "KeyError",
     "evalue": "'B'",
     "output_type": "error",
     "traceback": [
      "\u001b[0;31m---------------------------------------------------------------------------\u001b[0m",
      "\u001b[0;31mKeyError\u001b[0m                                  Traceback (most recent call last)",
      "\u001b[0;32m/tmp/ipykernel_10010/2152487832.py\u001b[0m in \u001b[0;36m<module>\u001b[0;34m\u001b[0m\n\u001b[1;32m     38\u001b[0m \u001b[0;34m\u001b[0m\u001b[0m\n\u001b[1;32m     39\u001b[0m \u001b[0;34m\u001b[0m\u001b[0m\n\u001b[0;32m---> 40\u001b[0;31m \u001b[0mdirected_shortest_path\u001b[0m\u001b[0;34m(\u001b[0m\u001b[0;34m'G'\u001b[0m\u001b[0;34m,\u001b[0m \u001b[0;34m'C'\u001b[0m\u001b[0;34m)\u001b[0m\u001b[0;34m\u001b[0m\u001b[0;34m\u001b[0m\u001b[0m\n\u001b[0m",
      "\u001b[0;32m/tmp/ipykernel_10010/2152487832.py\u001b[0m in \u001b[0;36mdirected_shortest_path\u001b[0;34m(vstart, vfinish)\u001b[0m\n\u001b[1;32m     16\u001b[0m         \u001b[0mdict1\u001b[0m\u001b[0;34m[\u001b[0m\u001b[0mkey\u001b[0m\u001b[0;34m]\u001b[0m \u001b[0;34m=\u001b[0m \u001b[0mDijkstraVertex\u001b[0m\u001b[0;34m(\u001b[0m\u001b[0mkey\u001b[0m\u001b[0;34m)\u001b[0m\u001b[0;34m\u001b[0m\u001b[0;34m\u001b[0m\u001b[0m\n\u001b[1;32m     17\u001b[0m         \u001b[0;32mfor\u001b[0m \u001b[0mk\u001b[0m\u001b[0;34m,\u001b[0m \u001b[0mv\u001b[0m \u001b[0;32min\u001b[0m \u001b[0mg\u001b[0m\u001b[0;34m[\u001b[0m\u001b[0mkey\u001b[0m\u001b[0;34m]\u001b[0m\u001b[0;34m.\u001b[0m\u001b[0mitems\u001b[0m\u001b[0;34m(\u001b[0m\u001b[0;34m)\u001b[0m\u001b[0;34m:\u001b[0m\u001b[0;34m\u001b[0m\u001b[0;34m\u001b[0m\u001b[0m\n\u001b[0;32m---> 18\u001b[0;31m             \u001b[0mdict1\u001b[0m\u001b[0;34m[\u001b[0m\u001b[0mkey\u001b[0m\u001b[0;34m]\u001b[0m\u001b[0;34m.\u001b[0m\u001b[0madd_neighbour\u001b[0m\u001b[0;34m(\u001b[0m\u001b[0mdict1\u001b[0m\u001b[0;34m[\u001b[0m\u001b[0mk\u001b[0m\u001b[0;34m]\u001b[0m\u001b[0;34m,\u001b[0m \u001b[0mv\u001b[0m\u001b[0;34m)\u001b[0m\u001b[0;34m\u001b[0m\u001b[0;34m\u001b[0m\u001b[0m\n\u001b[0m\u001b[1;32m     19\u001b[0m \u001b[0;34m\u001b[0m\u001b[0m\n\u001b[1;32m     20\u001b[0m     \u001b[0mstart\u001b[0m \u001b[0;34m=\u001b[0m \u001b[0mdict1\u001b[0m\u001b[0;34m[\u001b[0m\u001b[0mvstart\u001b[0m\u001b[0;34m]\u001b[0m\u001b[0;34m\u001b[0m\u001b[0;34m\u001b[0m\u001b[0m\n",
      "\u001b[0;31mKeyError\u001b[0m: 'B'"
     ]
    }
   ],
   "source": [
    "def directed_shortest_path (vstart, vfinish):\n",
    "\n",
    "    path = []\n",
    "    distance = 0\n",
    "    dict1 = {}\n",
    "       \n",
    "    g = { 'A': {'B': 1},\n",
    "          'B': {'C': 3, 'D': 2, 'E': 1},\n",
    "          'C': {'D': 1, 'E': 4},\n",
    "          'D': {'a': 2, 'E': 2},\n",
    "          'E': {'F': 3},\n",
    "          'G': {'D': 1}\n",
    "        }\n",
    "\n",
    "    for key in g:\n",
    "        dict1[key] = DijkstraVertex(key)\n",
    "        for k, v in g[key].items():\n",
    "            dict1[key].add_neighbour(dict1[k], v)\n",
    "\n",
    "    start = dict1[vstart]\n",
    "    finish = dict1[vfinish]\n",
    "    g = DijkstraGraph()\n",
    "    for key in dict1:\n",
    "        g.add_vertex(dict1[key])\n",
    "    for key in g:\n",
    "        for k, v in g[key].items():\n",
    "            g.add_edge(key, k, v)\n",
    "    g.dijkstra_spf(start)\n",
    "    current = finish\n",
    "    while current:\n",
    "        path.append(current.get_id())\n",
    "        current = current.get_previous()\n",
    "\n",
    "    distance = finish.get_distance()\n",
    "    path = path[::-1]\n",
    "    return (path, distance)\n",
    "\n",
    "\n",
    "    \n",
    "directed_shortest_path('G', 'C')"
   ]
  },
  {
   "cell_type": "markdown",
   "metadata": {},
   "source": [
    "## Trees\n",
    "\n",
    "As for graphs, this reference code is provided to allow you to extend the classes using (single or multi-level) inheritance. It is suggested that you do not modify this base code but rather extend the classes in order to answer the questions below. You are not compelled to make use of the provided code and may answer the questions as you see fit."
   ]
  },
  {
   "cell_type": "code",
   "execution_count": null,
   "metadata": {},
   "outputs": [],
   "source": [
    "class TreeVertex:\n",
    "\n",
    "    def __init__ (self, _value = None):\n",
    "        # User domain payload of the TreeVertex\n",
    "        self._value = _value\n",
    "        \n",
    "        # Left and right sided children\n",
    "        self._left = None\n",
    "        self._right = None\n",
    "        \n",
    "    def get_value (self):\n",
    "        return self._value\n",
    "    \n",
    "    def set_value (self, _value):\n",
    "        self._value = _value\n",
    "        \n",
    "    def get_left (self):\n",
    "        return self._left\n",
    "\n",
    "    def set_left (self, new_left):\n",
    "        self._left = new_left\n",
    "        \n",
    "    def get_right (self):\n",
    "        return self._right\n",
    "    \n",
    "    def set_right (self, new_right):\n",
    "        self._right = new_right"
   ]
  },
  {
   "cell_type": "code",
   "execution_count": null,
   "metadata": {},
   "outputs": [],
   "source": [
    "class BinarySearchTree:\n",
    "         \n",
    "    def __init__(self):\n",
    "        self._root = None"
   ]
  },
  {
   "cell_type": "markdown",
   "metadata": {},
   "source": [
    "#### Question 03 &nbsp;&nbsp;&nbsp;&nbsp;&nbsp;&nbsp;(10 Points)\n",
    "\n",
    "Write a class `Q3Vertex` as a subclass of `TreeVertex` whose constructor accepts a word as a mixed case string containing only the letters of the alphabet such as `'Hidden'` or `'valley'` and stores this as a protected instance variable. Add an `insert_word` function that positions an inserted word in a leaf vertex sorted alphabetically ignoring case.\n",
    "```python\n",
    "class Q3Vertex(TreeVertex): # Optional subclassing of TreeVertex\n",
    "\n",
    "    def __init__ (self, word = \"\"):\n",
    "        self._value = word\n",
    "\n",
    "    def insert_word (self, word):\n",
    "        '''\n",
    "        Insert a word as a leaf vertex in either left or right subtree with in-order position\n",
    "        determined alphabetically ignoring case.\n",
    "        '''\n",
    "```\n",
    "For example:\n",
    "```python\n",
    "vertex = Q3Vertex(\"Hidden\")\n",
    "vertex.insert_word(\"a\")\n",
    "vertex.insert_word(\"valley\")\n",
    "```\n",
    "would result in a `Q3Vertex` with \"Hidden\" having left lead node \"a\" and right leaf node \"valley\". The in-order description of the tree would be \"a\", \"Hidden\", \"valley\"."
   ]
  },
  {
   "cell_type": "code",
   "execution_count": null,
   "metadata": {
    "tags": []
   },
   "outputs": [],
   "source": [
    "# Write your solution here"
   ]
  },
  {
   "cell_type": "markdown",
   "metadata": {},
   "source": [
    "#### Question 04 &nbsp;&nbsp;&nbsp;&nbsp;&nbsp;&nbsp;(15 Points)\n",
    "\n",
    "Extend `Q3Vertex` in a class `Q4Vertex` and add the function:\n",
    "```python\n",
    "    def the_last_word (self):\n",
    "```\n",
    "that returns the last word of an in order traversal of vertices from the root of any tree or subtree. For example, in the in-order example used above \"a\", \"Hidden\", \"valley\", `vertex.the_last_word()` would return `\"valley\"`."
   ]
  },
  {
   "cell_type": "code",
   "execution_count": null,
   "metadata": {
    "tags": []
   },
   "outputs": [],
   "source": [
    "# Write your solution here"
   ]
  },
  {
   "cell_type": "markdown",
   "metadata": {},
   "source": [
    "#### Question 5 &nbsp;&nbsp;&nbsp;&nbsp;&nbsp;&nbsp;(15 Points)\n",
    "\n",
    "Extend `Q4Vertex` in a class `Q5Vertex` that adds a function:\n",
    "```python\n",
    "    def in_order_upper_case (self):\n",
    "```\n",
    "that returns the in-order traversal of the tree and returns the words as a string which concatenates each word separated by a space into a single string.\n",
    "\n",
    "For example:\n",
    "```python\n",
    "    vertex.in_order_upper_case()\n",
    "```\n",
    "would return a string: `'A HIDDEN VALLEY'`."
   ]
  },
  {
   "cell_type": "code",
   "execution_count": null,
   "metadata": {
    "tags": []
   },
   "outputs": [],
   "source": [
    "# Write your solution here"
   ]
  },
  {
   "cell_type": "markdown",
   "metadata": {},
   "source": [
    "#### Question 6 &nbsp;&nbsp;&nbsp;&nbsp;&nbsp;&nbsp;(15 Points)\n",
    "\n",
    "Create a class Q6BinarySearchTree that implements a binary search tree for words in a sentence and sorts them alphabetically ignoring case. The constructor should take a sentence such as:\n",
    "`\"Loveliest of trees the cherry now Is hung with bloom along the bough\"` and separate individual words before adding them to the contained BST.\n",
    "\n",
    "```python\n",
    "class Q6BinarySearchTree(): \n",
    "    def __init__(self, sentence):\n",
    "```   \n",
    "The tree should have a method:\n",
    "```python\n",
    "    def contains(self, word):\n",
    "```   \n",
    "that searches the BST for a word and returns True when the word appears in the sentence ignoring case. For example, given the sentence above:\n",
    "```python\n",
    "    tree = Q6BinarySearchTree(\"Loveliest of trees the cherry now ...\")\n",
    "    tree.constains(\"the\") == True\n",
    "    tree.constains(\"THE\") == True # Because case ignored\n",
    "    tree.constains(\"python\") == False\n",
    "```"
   ]
  },
  {
   "cell_type": "code",
   "execution_count": null,
   "metadata": {
    "tags": []
   },
   "outputs": [],
   "source": [
    "# Write your solution here"
   ]
  },
  {
   "cell_type": "markdown",
   "metadata": {},
   "source": [
    "#### Question 7 &nbsp;&nbsp;&nbsp;&nbsp;&nbsp;&nbsp;(15 Points)\n",
    "\n",
    "Extend `Q6BinarySearchTree` in a class `Q7BinarySearchTree` that is capable of storing at each vertex of the BST both the word and the number of times it occurs in the sentence passed to the constructor. To do this, you will need to create a new vertex class that extends a tree vertex class from a previous question. Words are added to the tree alphabetically ignoring case as before. \n",
    "\n",
    "Your class must include a method `frequency` that traverses the tree in order and returns a list of tuples where each tuple consists of the (word, occurrences) - where occurrences is the number of times the word occurs in the sentence.\n",
    "```python\n",
    "class Q7BinarySearchTree(Q6BinarySearchTree):\n",
    "    def __init__(self, sentence):\n",
    "        ''' \n",
    "        Accepts an input sentence, converts it to lowercase and splits into\n",
    "        words which are stored in the BST alphabetically ignoring case.\n",
    "        '''\n",
    "        \n",
    "    def frequency(self):    \n",
    "        '''\n",
    "        Returns a list of tuples containing the in-order traversal of the  \n",
    "        tree and the number of times the word appears in the sentence.\n",
    "        '''\n",
    "```\n",
    "For example, given a sentence `\"a A tree repeats\"` the function `frequency` would return a list: </br>\n",
    "`[('a', 2), ('repeats', 1), ('tree', 1)]`</br>\n",
    "because the sentence contains two instances of 'a'.\n"
   ]
  },
  {
   "cell_type": "code",
   "execution_count": null,
   "metadata": {
    "tags": []
   },
   "outputs": [],
   "source": [
    "# Write your solution here"
   ]
  }
 ],
 "metadata": {
  "kernelspec": {
   "display_name": "Python 3 (ipykernel)",
   "language": "python",
   "name": "python3"
  },
  "language_info": {
   "codemirror_mode": {
    "name": "ipython",
    "version": 3
   },
   "file_extension": ".py",
   "mimetype": "text/x-python",
   "name": "python",
   "nbconvert_exporter": "python",
   "pygments_lexer": "ipython3",
   "version": "3.7.11"
  },
  "otter": {
   "tests": {
    "Question 01": {
     "name": "Question 01",
     "points": 15,
     "suites": [
      {
       "cases": [],
       "scored": true,
       "setup": "",
       "teardown": "",
       "type": "doctest"
      }
     ]
    },
    "Question 02": {
     "name": "Question 02",
     "points": 15,
     "suites": [
      {
       "cases": [],
       "scored": true,
       "setup": "",
       "teardown": "",
       "type": "doctest"
      }
     ]
    },
    "Question 03": {
     "name": "Question 03",
     "points": 10,
     "suites": [
      {
       "cases": [],
       "scored": true,
       "setup": "",
       "teardown": "",
       "type": "doctest"
      }
     ]
    },
    "Question 04": {
     "name": "Question 04",
     "points": 15,
     "suites": [
      {
       "cases": [],
       "scored": true,
       "setup": "",
       "teardown": "",
       "type": "doctest"
      }
     ]
    },
    "Question 05": {
     "name": "Question 05",
     "points": 15,
     "suites": [
      {
       "cases": [],
       "scored": true,
       "setup": "",
       "teardown": "",
       "type": "doctest"
      }
     ]
    },
    "Question 06": {
     "name": "Question 06",
     "points": 15,
     "suites": [
      {
       "cases": [],
       "scored": true,
       "setup": "",
       "teardown": "",
       "type": "doctest"
      }
     ]
    },
    "Question 07": {
     "name": "Question 07",
     "points": 15,
     "suites": [
      {
       "cases": [],
       "scored": true,
       "setup": "",
       "teardown": "",
       "type": "doctest"
      }
     ]
    },
    "q1": {
     "name": "q1",
     "points": 1,
     "suites": [
      {
       "cases": [],
       "scored": true,
       "setup": "",
       "teardown": "",
       "type": "doctest"
      }
     ]
    },
    "q10": {
     "name": "q10",
     "points": 4,
     "suites": [
      {
       "cases": [],
       "scored": true,
       "setup": "",
       "teardown": "",
       "type": "doctest"
      }
     ]
    },
    "q11": {
     "name": "q11",
     "points": 6,
     "suites": [
      {
       "cases": [],
       "scored": true,
       "setup": "",
       "teardown": "",
       "type": "doctest"
      }
     ]
    },
    "q12": {
     "name": "q12",
     "points": 6,
     "suites": [
      {
       "cases": [],
       "scored": true,
       "setup": "",
       "teardown": "",
       "type": "doctest"
      }
     ]
    },
    "q13": {
     "name": "q13",
     "points": 6,
     "suites": [
      {
       "cases": [],
       "scored": true,
       "setup": "",
       "teardown": "",
       "type": "doctest"
      }
     ]
    },
    "q14": {
     "name": "q14",
     "points": 6,
     "suites": [
      {
       "cases": [],
       "scored": true,
       "setup": "",
       "teardown": "",
       "type": "doctest"
      }
     ]
    },
    "q15": {
     "name": "q15",
     "points": 6,
     "suites": [
      {
       "cases": [],
       "scored": true,
       "setup": "",
       "teardown": "",
       "type": "doctest"
      }
     ]
    },
    "q16": {
     "name": "q16",
     "points": 6,
     "suites": [
      {
       "cases": [],
       "scored": true,
       "setup": "",
       "teardown": "",
       "type": "doctest"
      }
     ]
    },
    "q17": {
     "name": "q17",
     "points": 8,
     "suites": [
      {
       "cases": [],
       "scored": true,
       "setup": "",
       "teardown": "",
       "type": "doctest"
      }
     ]
    },
    "q18": {
     "name": "q18",
     "points": 8,
     "suites": [
      {
       "cases": [],
       "scored": true,
       "setup": "",
       "teardown": "",
       "type": "doctest"
      }
     ]
    },
    "q19": {
     "name": "q19",
     "points": 12,
     "suites": [
      {
       "cases": [],
       "scored": true,
       "setup": "",
       "teardown": "",
       "type": "doctest"
      }
     ]
    },
    "q2": {
     "name": "q2",
     "points": 1,
     "suites": [
      {
       "cases": [],
       "scored": true,
       "setup": "",
       "teardown": "",
       "type": "doctest"
      }
     ]
    },
    "q20": {
     "name": "q20",
     "points": 12,
     "suites": [
      {
       "cases": [],
       "scored": true,
       "setup": "",
       "teardown": "",
       "type": "doctest"
      }
     ]
    },
    "q3": {
     "name": "q3",
     "points": 1,
     "suites": [
      {
       "cases": [],
       "scored": true,
       "setup": "",
       "teardown": "",
       "type": "doctest"
      }
     ]
    },
    "q4": {
     "name": "q4",
     "points": 1,
     "suites": [
      {
       "cases": [],
       "scored": true,
       "setup": "",
       "teardown": "",
       "type": "doctest"
      }
     ]
    },
    "q5": {
     "name": "q5",
     "points": 2,
     "suites": [
      {
       "cases": [],
       "scored": true,
       "setup": "",
       "teardown": "",
       "type": "doctest"
      }
     ]
    },
    "q6": {
     "name": "q6",
     "points": 2,
     "suites": [
      {
       "cases": [],
       "scored": true,
       "setup": "",
       "teardown": "",
       "type": "doctest"
      }
     ]
    },
    "q7": {
     "name": "q7",
     "points": 4,
     "suites": [
      {
       "cases": [],
       "scored": true,
       "setup": "",
       "teardown": "",
       "type": "doctest"
      }
     ]
    },
    "q8": {
     "name": "q8",
     "points": 4,
     "suites": [
      {
       "cases": [],
       "scored": true,
       "setup": "",
       "teardown": "",
       "type": "doctest"
      }
     ]
    },
    "q9": {
     "name": "q9",
     "points": 4,
     "suites": [
      {
       "cases": [],
       "scored": true,
       "setup": "",
       "teardown": "",
       "type": "doctest"
      }
     ]
    }
   }
  },
  "varInspector": {
   "cols": {
    "lenName": 16,
    "lenType": 16,
    "lenVar": 40
   },
   "kernels_config": {
    "python": {
     "delete_cmd_postfix": "",
     "delete_cmd_prefix": "del ",
     "library": "var_list.py",
     "varRefreshCmd": "print(var_dic_list())"
    },
    "r": {
     "delete_cmd_postfix": ") ",
     "delete_cmd_prefix": "rm(",
     "library": "var_list.r",
     "varRefreshCmd": "cat(var_dic_list()) "
    }
   },
   "types_to_exclude": [
    "module",
    "function",
    "builtin_function_or_method",
    "instance",
    "_Feature"
   ],
   "window_display": false
  },
  "vscode": {
   "interpreter": {
    "hash": "e49a7fcb0f3c6925065dedaecc1d4e64b34d3390904f71a7d218a332adc5bed2"
   }
  }
 },
 "nbformat": 4,
 "nbformat_minor": 4
}
